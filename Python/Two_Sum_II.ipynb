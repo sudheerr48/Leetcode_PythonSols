{
 "cells": [
  {
   "cell_type": "markdown",
   "id": "d86d1975-e8f1-488a-a312-0fd9917d4806",
   "metadata": {},
   "source": [
    "# 167. Two Sum II - Input Array Is Sorted"
   ]
  },
  {
   "cell_type": "markdown",
   "id": "d95148ad-9349-4345-bfdb-4732b9600365",
   "metadata": {},
   "source": [
    "Problem \n",
    "\n",
    "Given a 1-indexed array of integers numbers that is already sorted in non-decreasing order, find two numbers such that they add up to a specific target number. Let these two numbers be numbers[index1] and numbers[index2] where 1 <= index1 < index2 <= numbers.length.\n",
    "\n",
    "Return the indices of the two numbers, index1 and index2, added by one as an integer array [index1, index2] of length 2.\n",
    "\n",
    "The tests are generated such that there is exactly one solution. You may not use the same element twice.\n",
    "\n",
    "Your solution must use only constant extra space.\n",
    "\n",
    "\n",
    "Example 1:\n",
    "\n",
    "Input: numbers = [2,7,11,15], target = 9\n",
    "Output: [1,2]\n",
    "Explanation: The sum of 2 and 7 is 9. Therefore, index1 = 1, index2 = 2. We return [1, 2].\n",
    "Example 2:\n",
    "\n",
    "Input: numbers = [2,3,4], target = 6\n",
    "Output: [1,3]\n",
    "Explanation: The sum of 2 and 4 is 6. Therefore index1 = 1, index2 = 3. We return [1, 3].\n",
    "Example 3:\n",
    "\n",
    "Input: numbers = [-1,0], target = -1\n",
    "Output: [1,2]\n",
    "Explanation: The sum of -1 and 0 is -1. Therefore index1 = 1, index2 = 2. We return [1, 2].\n",
    "\n",
    "\n",
    "Solution \n",
    "\n",
    "1. Given array is already sorted , hence we dont need to perform presorting\n",
    "2.We can go with 2 pointer approach"
   ]
  },
  {
   "cell_type": "code",
   "execution_count": 4,
   "id": "754789c5-385e-4b30-8115-918093abf6ec",
   "metadata": {},
   "outputs": [],
   "source": [
    "class Solution:\n",
    "    def twoSum(self, numbers, target) :\n",
    "        i = 0\n",
    "        j = len(numbers)-1-i\n",
    "        while(i<j):\n",
    "            if numbers[i] == target-numbers[j]:\n",
    "                return [i+1,j+1]\n",
    "            elif numbers[i] > target-numbers[j]:\n",
    "                 j=j-1\n",
    "            else:\n",
    "                i=i+1\n",
    "        return[-1,-1] "
   ]
  },
  {
   "cell_type": "code",
   "execution_count": 5,
   "id": "980d7a70-195f-4a91-8dee-cf1e218e15d0",
   "metadata": {},
   "outputs": [
    {
     "data": {
      "text/plain": [
       "[1, 2]"
      ]
     },
     "execution_count": 5,
     "metadata": {},
     "output_type": "execute_result"
    }
   ],
   "source": [
    "s = Solution()\n",
    "nums = [2,7,11,15]\n",
    "target = 9\n",
    "s.twoSum(nums,target)"
   ]
  },
  {
   "cell_type": "code",
   "execution_count": null,
   "id": "9a6bd427-0579-440c-8bc2-5eb651db85f2",
   "metadata": {},
   "outputs": [],
   "source": []
  }
 ],
 "metadata": {
  "kernelspec": {
   "display_name": "Python 3 (ipykernel)",
   "language": "python",
   "name": "python3"
  },
  "language_info": {
   "codemirror_mode": {
    "name": "ipython",
    "version": 3
   },
   "file_extension": ".py",
   "mimetype": "text/x-python",
   "name": "python",
   "nbconvert_exporter": "python",
   "pygments_lexer": "ipython3",
   "version": "3.9.7"
  }
 },
 "nbformat": 4,
 "nbformat_minor": 5
}
