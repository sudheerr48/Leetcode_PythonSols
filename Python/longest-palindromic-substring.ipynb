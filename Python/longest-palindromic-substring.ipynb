{
 "cells": [
  {
   "cell_type": "markdown",
   "id": "ef54e5e5-78ba-4a1b-b5ce-2d94f3f65f15",
   "metadata": {},
   "source": [
    "# 5. Longest Palindromic Substring\n",
    "\n",
    "Given a string s, return the longest palindromic substring in s.\n",
    "\n",
    " \n",
    "\n",
    "Example 1:\n",
    "\n",
    "Input: s = \"babad\"\n",
    "Output: \"bab\"\n",
    "Explanation: \"aba\" is also a valid answer.\n",
    "Example 2:\n",
    "\n",
    "Input: s = \"cbbd\"\n",
    "Output: \"bb\"\n"
   ]
  },
  {
   "cell_type": "code",
   "execution_count": 14,
   "id": "d03e38a5-a064-4b54-98ee-6e0dbec1aacd",
   "metadata": {},
   "outputs": [],
   "source": [
    "# Todo Add pictures\n",
    "#similar to  palindromic substrings problem\n",
    "class Solution:\n",
    "    def longestPalindrome(self, s: str) -> str:\n",
    "        dp = [[0 for j in range(len(s))] for i in range(len(s)) ] \n",
    "        #print(dp)\n",
    "        max_str = \"\"\n",
    "        for i in range(len(s)):\n",
    "            dp[i][i] = 1\n",
    "            if len(max_str) < len(s[i]):\n",
    "                max_str = s[i]\n",
    "            if i+1<len(s) and s[i] == s[i+1]:\n",
    "                #print(s[i:i+2])\n",
    "                max_str = s[i:i+2]\n",
    "                dp[i][i+1] =2\n",
    "        #print(dp)\n",
    "        #print(max_str)\n",
    "        for i in range(len(s)-3,-1,-1):\n",
    "            for j in range(len(s)-1,i+1,-1):\n",
    "                if s[i] == s[j] and dp[i+1][j-1]!=0:\n",
    "                    dp[i][j] = (j-i)+1\n",
    "                    if dp[i][j] >= len(max_str):\n",
    "                        max_str = s[i:j+1]\n",
    "        return max_str"
   ]
  },
  {
   "cell_type": "code",
   "execution_count": 15,
   "id": "7b5d6b57-b489-4ee0-834e-cde3ded1f227",
   "metadata": {},
   "outputs": [
    {
     "name": "stdout",
     "output_type": "stream",
     "text": [
      "axbobxa\n"
     ]
    }
   ],
   "source": [
    "s =Solution()\n",
    "print(s.longestPalindrome(\"axbobxa\"))\n"
   ]
  },
  {
   "cell_type": "code",
   "execution_count": 16,
   "id": "6b55aacc-7edb-4e14-9167-9aecfa22e38d",
   "metadata": {},
   "outputs": [
    {
     "name": "stdout",
     "output_type": "stream",
     "text": [
      "aaa\n"
     ]
    }
   ],
   "source": [
    "print(s.longestPalindrome(\"aaa\"))\n"
   ]
  },
  {
   "cell_type": "code",
   "execution_count": 17,
   "id": "e85efad9-c1e5-406c-a7f2-e5ae5c0c86b5",
   "metadata": {},
   "outputs": [
    {
     "name": "stdout",
     "output_type": "stream",
     "text": [
      "xbobx\n"
     ]
    }
   ],
   "source": [
    "print(s.longestPalindrome(\"axbobx\"))"
   ]
  },
  {
   "cell_type": "code",
   "execution_count": 18,
   "id": "8d2f58a6-5176-43ed-8685-83e61fda2c54",
   "metadata": {},
   "outputs": [
    {
     "name": "stdout",
     "output_type": "stream",
     "text": [
      "xbobx\n"
     ]
    }
   ],
   "source": [
    "s =Solution()\n",
    "print(s.longestPalindrome(\"axbobxb\"))\n"
   ]
  },
  {
   "cell_type": "code",
   "execution_count": null,
   "id": "26ea8ef6-90f0-4bbc-91a7-3554c2a24327",
   "metadata": {},
   "outputs": [],
   "source": []
  }
 ],
 "metadata": {
  "kernelspec": {
   "display_name": "Python 3 (ipykernel)",
   "language": "python",
   "name": "python3"
  },
  "language_info": {
   "codemirror_mode": {
    "name": "ipython",
    "version": 3
   },
   "file_extension": ".py",
   "mimetype": "text/x-python",
   "name": "python",
   "nbconvert_exporter": "python",
   "pygments_lexer": "ipython3",
   "version": "3.9.7"
  }
 },
 "nbformat": 4,
 "nbformat_minor": 5
}
