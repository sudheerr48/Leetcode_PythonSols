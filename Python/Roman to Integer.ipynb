{
 "cells": [
  {
   "cell_type": "markdown",
   "id": "7401af81-c5d0-480c-bd3d-e15aae4d7d34",
   "metadata": {},
   "source": [
    "# 13. Roman to Integer\n",
    "\n",
    "Roman numerals are represented by seven different symbols: I, V, X, L, C, D and M.\n",
    "\n",
    "Symbol       Value\n",
    "\n",
    "I             1\n",
    "\n",
    "V             5\n",
    "\n",
    "X             10\n",
    "\n",
    "L             50\n",
    "\n",
    "C             100\n",
    "\n",
    "D             500\n",
    "\n",
    "M             1000\n",
    "\n",
    "For example, 2 is written as II in Roman numeral, just two ones added together. 12 is written as XII, which is simply X + II. The number 27 is written as XXVII, which is XX + V + II.\n",
    "\n",
    "Roman numerals are usually written largest to smallest from left to right. However, the numeral for four is not IIII. Instead, the number four is written as IV. Because the one is before the five we subtract it making four. The same principle applies to the number nine, which is written as IX. There are six instances where subtraction is used:\n",
    "\n",
    "I can be placed before V (5) and X (10) to make 4 and 9. \n",
    "\n",
    "X can be placed before L (50) and C (100) to make 40 and 90. \n",
    "\n",
    "C can be placed before D (500) and M (1000) to make 400 and 900.\n",
    "\n",
    "Given a roman numeral, convert it to an integer."
   ]
  },
  {
   "cell_type": "code",
   "execution_count": 8,
   "id": "deb0aad5-32c7-4da9-84a8-798cdad8e668",
   "metadata": {},
   "outputs": [],
   "source": [
    "'''\n",
    "1. Pick pairs from left to right and if their order difference is negative \"DM\" , then add differene to total \n",
    "else add total\n",
    "'''\n",
    "class Solution(object):\n",
    "    def romanToInt(self, s):\n",
    "        \"\"\"\n",
    "        :type s: str\n",
    "        :rtype: int\n",
    "        \"\"\"\n",
    "        order = {\"M\":1000,\"D\":500,\"C\":100,\"L\":50,\"X\":10,\"V\":5,\"I\":1}\n",
    "        \n",
    "        x = 0\n",
    "        total = 0\n",
    "        \n",
    "        while x<len(s):\n",
    "            if  x + 1 < len(s) and  order[s[x]] < order[s[x+1]] :\n",
    "                total+= order[s[x+1]] - order[s[x]]\n",
    "                x+=2\n",
    "            else:\n",
    "                total += order[s[x]]\n",
    "                x += 1\n",
    "        return total\n",
    "                "
   ]
  },
  {
   "cell_type": "code",
   "execution_count": 9,
   "id": "fe0df5d9-696e-4644-b8e3-550c4b8b5095",
   "metadata": {},
   "outputs": [
    {
     "data": {
      "text/plain": [
       "3"
      ]
     },
     "execution_count": 9,
     "metadata": {},
     "output_type": "execute_result"
    }
   ],
   "source": [
    "s = Solution()\n",
    "s.romanToInt(\"III\")"
   ]
  },
  {
   "cell_type": "code",
   "execution_count": 10,
   "id": "80de0de4-379f-4ea5-b129-a08b1d960bc9",
   "metadata": {},
   "outputs": [
    {
     "data": {
      "text/plain": [
       "4"
      ]
     },
     "execution_count": 10,
     "metadata": {},
     "output_type": "execute_result"
    }
   ],
   "source": [
    "s.romanToInt(\"IV\")"
   ]
  },
  {
   "cell_type": "code",
   "execution_count": 11,
   "id": "1415ac26-548e-4f0a-8ed7-be8f4ee5b733",
   "metadata": {},
   "outputs": [
    {
     "data": {
      "text/plain": [
       "7"
      ]
     },
     "execution_count": 11,
     "metadata": {},
     "output_type": "execute_result"
    }
   ],
   "source": [
    "s.romanToInt(\"VII\")"
   ]
  },
  {
   "cell_type": "code",
   "execution_count": null,
   "id": "d65ad323-036b-4316-bb0c-19278edb88d0",
   "metadata": {},
   "outputs": [],
   "source": []
  }
 ],
 "metadata": {
  "kernelspec": {
   "display_name": "Python 3 (ipykernel)",
   "language": "python",
   "name": "python3"
  },
  "language_info": {
   "codemirror_mode": {
    "name": "ipython",
    "version": 3
   },
   "file_extension": ".py",
   "mimetype": "text/x-python",
   "name": "python",
   "nbconvert_exporter": "python",
   "pygments_lexer": "ipython3",
   "version": "3.9.7"
  }
 },
 "nbformat": 4,
 "nbformat_minor": 5
}
