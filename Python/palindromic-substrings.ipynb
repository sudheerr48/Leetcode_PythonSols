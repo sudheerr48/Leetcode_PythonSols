{
 "cells": [
  {
   "cell_type": "markdown",
   "id": "2633725a-10f8-4869-a8be-d12b55b70825",
   "metadata": {},
   "source": [
    "# 647. Palindromic Substrings\n",
    "Given a string s, return the number of palindromic substrings in it.\n",
    "\n",
    "A string is a palindrome when it reads the same backward as forward.\n",
    "\n",
    "A substring is a contiguous sequence of characters within the string.\n",
    "\n",
    " \n",
    "\n",
    "Example 1:\n",
    "\n",
    "Input: s = \"abc\"\n",
    "Output: 3\n",
    "Explanation: Three palindromic strings: \"a\", \"b\", \"c\".\n",
    "Example 2:\n",
    "\n",
    "Input: s = \"aaa\"\n",
    "Output: 6\n",
    "Explanation: Six palindromic strings: \"a\", \"a\", \"a\", \"aa\", \"aa\", \"aaa\".\n",
    " \n",
    "\n",
    "Constraints:\n",
    "\n",
    "1 <= s.length <= 1000\n",
    "s consists of lowercase English letters."
   ]
  },
  {
   "cell_type": "code",
   "execution_count": 1,
   "id": "01ca6aaa-fca1-4815-be35-4713a410562c",
   "metadata": {},
   "outputs": [],
   "source": [
    "# To-Do Add pictures \n",
    "\n",
    "class Solution:\n",
    "    def countSubstrings(self, s: str) -> int:\n",
    "        # initiate dp array with length of string\n",
    "        dp = [[0 for j in range(len(s))] for i in range(len(s))]\n",
    "        # initialize counter to 0 for counting all palindromic substrings\n",
    "        count =0\n",
    "        #intialize dp[i][i] to 1 since every indivudual character is a palindrome \n",
    "        for i in range(len(s)):\n",
    "            dp[i][i] = 1\n",
    "            count+=1\n",
    "            # if adjacent characters have same characters count them as well \n",
    "            if (i+1 < len(s) and s[i] ==s[i+1]):\n",
    "                dp[i][i+1] =1\n",
    "                count+=1\n",
    "        # core dp formula is if dp[i+1][j-1] is true/1 and s[i] =s[j] then definitely it is a palindromic substring\n",
    "        for i in range(len(s)-3,-1,-1):\n",
    "            for j in range(len(s)-1,i,-1):\n",
    "                if dp[i+1][j-1] == 1 and s[i] == s[j]:\n",
    "                    dp[i][j] = 1\n",
    "                    count+=1\n",
    "        \n",
    "        #return count\n",
    "        return count\n",
    "        #print(dp)"
   ]
  },
  {
   "cell_type": "code",
   "execution_count": 5,
   "id": "79aa6c25-d7f7-4ea5-a9f2-1e995ca341a1",
   "metadata": {},
   "outputs": [
    {
     "name": "stdout",
     "output_type": "stream",
     "text": [
      "10\n",
      "6\n",
      "8\n"
     ]
    }
   ],
   "source": [
    "s =Solution()\n",
    "print(s.countSubstrings(\"axbobxa\"))\n",
    "print(s.countSubstrings(\"aaa\"))\n",
    "print(s.countSubstrings(\"axbobx\"))"
   ]
  },
  {
   "cell_type": "code",
   "execution_count": null,
   "id": "9280f663-eaef-4ba4-b0d3-f1393243f02a",
   "metadata": {},
   "outputs": [],
   "source": []
  }
 ],
 "metadata": {
  "kernelspec": {
   "display_name": "Python 3 (ipykernel)",
   "language": "python",
   "name": "python3"
  },
  "language_info": {
   "codemirror_mode": {
    "name": "ipython",
    "version": 3
   },
   "file_extension": ".py",
   "mimetype": "text/x-python",
   "name": "python",
   "nbconvert_exporter": "python",
   "pygments_lexer": "ipython3",
   "version": "3.9.7"
  }
 },
 "nbformat": 4,
 "nbformat_minor": 5
}
