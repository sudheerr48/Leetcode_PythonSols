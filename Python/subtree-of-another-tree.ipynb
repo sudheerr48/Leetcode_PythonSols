{
 "cells": [
  {
   "cell_type": "markdown",
   "id": "7fa21711-6b12-4255-8da2-f1cab09190fc",
   "metadata": {},
   "source": [
    "# 572. Subtree of Another Tree\n",
    "Given the roots of two binary trees root and subRoot, return true if there is a subtree of root with the same structure and node values of subRoot and false otherwise.\n",
    "\n",
    "A subtree of a binary tree tree is a tree that consists of a node in tree and all of this node's descendants. The tree tree could also be considered as a subtree of itself.\n",
    "\n",
    " \n",
    "\n",
    "Example 1:\n",
    "\n",
    "\n",
    "Input: root = [3,4,5,1,2], subRoot = [4,1,2]\n",
    "Output: true\n",
    "Example 2:\n",
    "\n",
    "\n",
    "Input: root = [3,4,5,1,2,null,null,null,null,0], subRoot = [4,1,2]\n",
    "Output: false\n",
    " \n",
    "\n",
    "Constraints:\n",
    "\n",
    "The number of nodes in the root tree is in the range [1, 2000].\n",
    "The number of nodes in the subRoot tree is in the range [1, 1000].\n",
    "-104 <= root.val <= 104\n",
    "-104 <= subRoot.val <= 104"
   ]
  },
  {
   "cell_type": "code",
   "execution_count": null,
   "id": "e9e426d6-e476-44f7-8a91-bd6ff96690a4",
   "metadata": {},
   "outputs": [],
   "source": [
    "# Definition for a binary tree node.\n",
    "# class TreeNode:\n",
    "#     def __init__(self, val=0, left=None, right=None):\n",
    "#         self.val = val\n",
    "#         self.left = left\n",
    "#         self.right = right\n",
    "class Solution:\n",
    "    def isSubtree(self, root: Optional[TreeNode], subRoot: Optional[TreeNode]) -> bool:\n",
    "        # Check if root is empty return False\n",
    "        if not root:\n",
    "            return False\n",
    "        # check if root and subRoot(two nodes) are same tree\n",
    "        if self.isSameTree(root,subRoot):\n",
    "            return True\n",
    "        return (self.isSubtree(root.left,subRoot) or self.isSubtree(root.right,subRoot))\n",
    "        \n",
    "        \n",
    "    def isSameTree(self,node1: Optional[TreeNode], node2: Optional[TreeNode]):\n",
    "        #if both node1 and node2 are not null return True \n",
    "        if not node1  and not node2: return True\n",
    "        #if either node1 or node2 are  null return False\n",
    "        if not node1  or not node2 : return False\n",
    "        #if either node1.val not equal to node2.val   return False\n",
    "        if (node1.val != node2.val) : return False\n",
    "        #else check for both left trees and right trees\n",
    "        return self.isSameTree(node1.left, node2.left) and self.isSameTree(node1.right, node2.right)"
   ]
  }
 ],
 "metadata": {
  "kernelspec": {
   "display_name": "Python 3 (ipykernel)",
   "language": "python",
   "name": "python3"
  },
  "language_info": {
   "codemirror_mode": {
    "name": "ipython",
    "version": 3
   },
   "file_extension": ".py",
   "mimetype": "text/x-python",
   "name": "python",
   "nbconvert_exporter": "python",
   "pygments_lexer": "ipython3",
   "version": "3.9.7"
  }
 },
 "nbformat": 4,
 "nbformat_minor": 5
}
