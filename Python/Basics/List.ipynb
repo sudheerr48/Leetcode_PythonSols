{
 "cells": [
  {
   "cell_type": "code",
   "execution_count": 8,
   "id": "d5f93614-3587-4cbb-9c68-65a1b370ee31",
   "metadata": {},
   "outputs": [],
   "source": [
    "L = [5,1,21,3]\n",
    "M = [5,1,2,3]"
   ]
  },
  {
   "cell_type": "markdown",
   "id": "69b3d158-4f40-4a37-b6f8-abbefdc5e356",
   "metadata": {},
   "source": [
    "## 2 Ways to Sort a List "
   ]
  },
  {
   "cell_type": "code",
   "execution_count": 9,
   "id": "26779cad-6cec-425f-8412-092b9e4f88d9",
   "metadata": {},
   "outputs": [],
   "source": [
    "# in place sorting\n",
    "L.sort()"
   ]
  },
  {
   "cell_type": "code",
   "execution_count": 10,
   "id": "fa4c18fc-ecb8-45d6-86c8-bb96103076d0",
   "metadata": {},
   "outputs": [
    {
     "name": "stdout",
     "output_type": "stream",
     "text": [
      "[1, 3, 5, 21]\n"
     ]
    }
   ],
   "source": [
    "print(L)"
   ]
  },
  {
   "cell_type": "code",
   "execution_count": 11,
   "id": "fd784296-0ca8-4aee-b23b-b00f56ee3d3f",
   "metadata": {},
   "outputs": [
    {
     "name": "stdout",
     "output_type": "stream",
     "text": [
      "[5, 1, 2, 3]\n"
     ]
    }
   ],
   "source": [
    "print(M)"
   ]
  },
  {
   "cell_type": "code",
   "execution_count": 16,
   "id": "28eefdd3-6fe8-4e03-afd0-3ffce4fec7a1",
   "metadata": {},
   "outputs": [],
   "source": [
    "# Creating new list for sorting \n",
    "M_Sort = sorted(M)"
   ]
  },
  {
   "cell_type": "code",
   "execution_count": 13,
   "id": "a3ab42a5-07fa-4fbf-8b0c-7c3c7978175b",
   "metadata": {},
   "outputs": [
    {
     "name": "stdout",
     "output_type": "stream",
     "text": [
      "[5, 1, 2, 3]\n"
     ]
    }
   ],
   "source": [
    "print(M)"
   ]
  },
  {
   "cell_type": "code",
   "execution_count": 15,
   "id": "75eeee20-1ab6-46d6-9639-38ccd568c823",
   "metadata": {},
   "outputs": [
    {
     "name": "stdout",
     "output_type": "stream",
     "text": [
      "[1, 2, 3, 5]\n"
     ]
    }
   ],
   "source": [
    "print(M_Sort)"
   ]
  },
  {
   "cell_type": "code",
   "execution_count": null,
   "id": "70031aed-0cb6-4bb1-98ba-ce41d9bfe96f",
   "metadata": {},
   "outputs": [],
   "source": []
  }
 ],
 "metadata": {
  "kernelspec": {
   "display_name": "Python 3 (ipykernel)",
   "language": "python",
   "name": "python3"
  },
  "language_info": {
   "codemirror_mode": {
    "name": "ipython",
    "version": 3
   },
   "file_extension": ".py",
   "mimetype": "text/x-python",
   "name": "python",
   "nbconvert_exporter": "python",
   "pygments_lexer": "ipython3",
   "version": "3.9.7"
  }
 },
 "nbformat": 4,
 "nbformat_minor": 5
}
