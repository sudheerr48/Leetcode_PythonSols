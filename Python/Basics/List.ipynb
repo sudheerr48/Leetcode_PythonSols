{
 "cells": [
  {
   "cell_type": "code",
   "execution_count": 8,
   "id": "d5f93614-3587-4cbb-9c68-65a1b370ee31",
   "metadata": {},
   "outputs": [],
   "source": [
    "L = [5,1,21,3]\n",
    "M = [5,1,2,3]"
   ]
  },
  {
   "cell_type": "markdown",
   "id": "69b3d158-4f40-4a37-b6f8-abbefdc5e356",
   "metadata": {},
   "source": [
    "# List\n",
    "## 2 Ways to Sort a List "
   ]
  },
  {
   "cell_type": "code",
   "execution_count": 9,
   "id": "26779cad-6cec-425f-8412-092b9e4f88d9",
   "metadata": {},
   "outputs": [],
   "source": [
    "# in place sorting\n",
    "L.sort()"
   ]
  },
  {
   "cell_type": "code",
   "execution_count": 10,
   "id": "fa4c18fc-ecb8-45d6-86c8-bb96103076d0",
   "metadata": {},
   "outputs": [
    {
     "name": "stdout",
     "output_type": "stream",
     "text": [
      "[1, 3, 5, 21]\n"
     ]
    }
   ],
   "source": [
    "print(L)"
   ]
  },
  {
   "cell_type": "code",
   "execution_count": 11,
   "id": "fd784296-0ca8-4aee-b23b-b00f56ee3d3f",
   "metadata": {},
   "outputs": [
    {
     "name": "stdout",
     "output_type": "stream",
     "text": [
      "[5, 1, 2, 3]\n"
     ]
    }
   ],
   "source": [
    "print(M)"
   ]
  },
  {
   "cell_type": "code",
   "execution_count": 16,
   "id": "28eefdd3-6fe8-4e03-afd0-3ffce4fec7a1",
   "metadata": {},
   "outputs": [],
   "source": [
    "# Creating new list for sorting \n",
    "M_Sort = sorted(M)"
   ]
  },
  {
   "cell_type": "code",
   "execution_count": 13,
   "id": "a3ab42a5-07fa-4fbf-8b0c-7c3c7978175b",
   "metadata": {},
   "outputs": [
    {
     "name": "stdout",
     "output_type": "stream",
     "text": [
      "[5, 1, 2, 3]\n"
     ]
    }
   ],
   "source": [
    "print(M)"
   ]
  },
  {
   "cell_type": "code",
   "execution_count": 15,
   "id": "75eeee20-1ab6-46d6-9639-38ccd568c823",
   "metadata": {},
   "outputs": [
    {
     "name": "stdout",
     "output_type": "stream",
     "text": [
      "[1, 2, 3, 5]\n"
     ]
    }
   ],
   "source": [
    "print(M_Sort)"
   ]
  },
  {
   "cell_type": "markdown",
   "id": "613d6369-8c86-4877-850c-50575c2f6618",
   "metadata": {},
   "source": [
    "# String"
   ]
  },
  {
   "cell_type": "code",
   "execution_count": 27,
   "id": "054eefb5-2598-4a37-bd8b-306a6fceb4e5",
   "metadata": {},
   "outputs": [
    {
     "data": {
      "text/plain": [
       "['a', 'e', 't']"
      ]
     },
     "execution_count": 27,
     "metadata": {},
     "output_type": "execute_result"
    }
   ],
   "source": [
    "str1 = \"eat\"\n",
    "sorted(str1)"
   ]
  },
  {
   "cell_type": "code",
   "execution_count": 19,
   "id": "b8be2a0e-53db-47ab-a959-42014bf3860e",
   "metadata": {},
   "outputs": [
    {
     "data": {
      "text/plain": [
       "'aet'"
      ]
     },
     "execution_count": 19,
     "metadata": {},
     "output_type": "execute_result"
    }
   ],
   "source": [
    "\"\".join(sorted(str1))"
   ]
  },
  {
   "cell_type": "code",
   "execution_count": 20,
   "id": "5ca73e15-03de-491e-b959-f39094ff862e",
   "metadata": {},
   "outputs": [
    {
     "data": {
      "text/plain": [
       "'bac'"
      ]
     },
     "execution_count": 20,
     "metadata": {},
     "output_type": "execute_result"
    }
   ],
   "source": [
    "# List to Str\n",
    "List1 = [\"b\",\"a\",\"c\"]\n",
    "\"\".join(List1)"
   ]
  },
  {
   "cell_type": "code",
   "execution_count": 22,
   "id": "132befca-a60a-438f-9863-7ac4dfd52e8e",
   "metadata": {},
   "outputs": [
    {
     "data": {
      "text/plain": [
       "['b', 'a', 'c']"
      ]
     },
     "execution_count": 22,
     "metadata": {},
     "output_type": "execute_result"
    }
   ],
   "source": [
    "#Str to List\n",
    "str1 = \"bac\"\n",
    "[i for i in str1]"
   ]
  },
  {
   "cell_type": "markdown",
   "id": "52e91684-129b-4b1f-9b41-b56ef148faef",
   "metadata": {},
   "source": [
    "## Hashmap (Dictionary)"
   ]
  },
  {
   "cell_type": "code",
   "execution_count": 33,
   "id": "69366cbc-de64-4420-92f4-7675dd6d3ab7",
   "metadata": {},
   "outputs": [
    {
     "name": "stdout",
     "output_type": "stream",
     "text": [
      "{1: 3, 2: 2, 3: 1, 4: 3, 5: 5, 6: 2}\n"
     ]
    }
   ],
   "source": [
    "nums = [1,1,1,2,2,3,4,4,4,5,5,5,5,5,6,6]\n",
    "h_m = {}\n",
    "for elem in nums:\n",
    "            if elem in h_m.keys():\n",
    "                h_m[elem]+=1\n",
    "            else:\n",
    "                h_m[elem] = 1\n",
    "print(h_m)"
   ]
  },
  {
   "cell_type": "code",
   "execution_count": 39,
   "id": "aa5dcc4a-df55-479c-87b6-0829a4c9d0ec",
   "metadata": {},
   "outputs": [
    {
     "name": "stdout",
     "output_type": "stream",
     "text": [
      "key is  1\n",
      "key is  2\n",
      "key is  3\n",
      "key is  4\n",
      "key is  5\n",
      "key is  6\n",
      "------\n",
      "key is  1\n",
      "key is  2\n",
      "key is  3\n",
      "key is  4\n",
      "key is  5\n",
      "key is  6\n"
     ]
    }
   ],
   "source": [
    "# print keys in hashmap\n",
    "for k in h_m:\n",
    "    print(\"key is \",k)\n",
    "\n",
    "print(\"------\")\n",
    "\n",
    "for k in h_m.keys():\n",
    "    print(\"key is \",k)\n"
   ]
  },
  {
   "cell_type": "code",
   "execution_count": 47,
   "id": "ee8bd72e-b93b-4c6e-aeac-acfa96ebf793",
   "metadata": {},
   "outputs": [
    {
     "name": "stdout",
     "output_type": "stream",
     "text": [
      "Value is  3\n",
      "Value is  2\n",
      "Value is  1\n",
      "Value is  3\n",
      "Value is  5\n",
      "Value is  2\n"
     ]
    }
   ],
   "source": [
    "# print values in hashmap\n",
    "\n",
    "for v in h_m.values():\n",
    "    print(\"Value is \",v)"
   ]
  },
  {
   "cell_type": "code",
   "execution_count": 48,
   "id": "c1ff4ff8-09ed-4d5d-9f56-057a903a2446",
   "metadata": {},
   "outputs": [
    {
     "name": "stdout",
     "output_type": "stream",
     "text": [
      "key is  1 value is 3\n",
      "key is  2 value is 2\n",
      "key is  3 value is 1\n",
      "key is  4 value is 3\n",
      "key is  5 value is 5\n",
      "key is  6 value is 2\n",
      "------\n",
      "key is 1 value is  3\n",
      "key is 2 value is  2\n",
      "key is 3 value is  1\n",
      "key is 4 value is  3\n",
      "key is 5 value is  5\n",
      "key is 6 value is  2\n"
     ]
    }
   ],
   "source": [
    "# printing keys with values \n",
    "for k,v in h_m.items():\n",
    "    print(\"key is \",k,\"value is\",v)\n",
    "    \n",
    "print(\"------\")\n",
    "\n",
    "for k in h_m:\n",
    "    print(\"key is\",k,\"value is \",h_m[k])\n",
    "\n"
   ]
  },
  {
   "cell_type": "code",
   "execution_count": 52,
   "id": "83594aa7-5d14-47f6-bf34-f12f4b08cb86",
   "metadata": {},
   "outputs": [
    {
     "data": {
      "text/plain": [
       "[5, 1, 4, 2, 6, 3]"
      ]
     },
     "execution_count": 52,
     "metadata": {},
     "output_type": "execute_result"
    }
   ],
   "source": [
    "# Sorting hashmap by values with using heapq\n",
    "import heapq\n",
    "heapq.nlargest(len(h_m),h_m.keys(),key = h_m.get)"
   ]
  },
  {
   "cell_type": "code",
   "execution_count": 58,
   "id": "13d7a8a6-5520-4efe-a2a2-12a34fb52fe4",
   "metadata": {},
   "outputs": [
    {
     "data": {
      "text/plain": [
       "[(5, 5), (1, 3), (4, 3), (2, 2), (6, 2), (3, 1)]"
      ]
     },
     "execution_count": 58,
     "metadata": {},
     "output_type": "execute_result"
    }
   ],
   "source": [
    "heapq.nlargest(len(h_m),h_m.items(),key = lambda x:x[1])"
   ]
  },
  {
   "cell_type": "code",
   "execution_count": 59,
   "id": "778ba115-4d6d-41de-af92-0b3c8fc02a9d",
   "metadata": {},
   "outputs": [
    {
     "data": {
      "text/plain": [
       "[(6, 2), (5, 5), (4, 3), (3, 1), (2, 2), (1, 3)]"
      ]
     },
     "execution_count": 59,
     "metadata": {},
     "output_type": "execute_result"
    }
   ],
   "source": [
    "heapq.nlargest(len(h_m),h_m.items(),key = lambda x:x[0])"
   ]
  },
  {
   "cell_type": "code",
   "execution_count": null,
   "id": "89739243-03f1-434c-972e-fc2c49205826",
   "metadata": {},
   "outputs": [],
   "source": []
  }
 ],
 "metadata": {
  "kernelspec": {
   "display_name": "Python 3 (ipykernel)",
   "language": "python",
   "name": "python3"
  },
  "language_info": {
   "codemirror_mode": {
    "name": "ipython",
    "version": 3
   },
   "file_extension": ".py",
   "mimetype": "text/x-python",
   "name": "python",
   "nbconvert_exporter": "python",
   "pygments_lexer": "ipython3",
   "version": "3.9.7"
  }
 },
 "nbformat": 4,
 "nbformat_minor": 5
}
