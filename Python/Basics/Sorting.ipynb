{
 "cells": [
  {
   "cell_type": "code",
   "execution_count": 1,
   "id": "7302f338-acb7-4a08-87b9-dbc4ff97d219",
   "metadata": {},
   "outputs": [],
   "source": [
    "### Quick Sort\n",
    "\n",
    "import random\n",
    "def helper(nums,start,end):\n",
    "        if start >= end:\n",
    "            return\n",
    "        pivot = random.randint(start,end)\n",
    "        nums[start],nums[pivot] = nums[pivot],nums[start]\n",
    "        left = start\n",
    "        right = start\n",
    "        while(right <= end):\n",
    "            if nums[right] < nums[start]:\n",
    "                left+=1\n",
    "                nums[right],nums[left] = nums[left],nums[right]\n",
    "            right+=1\n",
    "        nums[start],nums[left] = nums[left],nums[start]\n",
    "        helper(nums,start,left-1)\n",
    "        helper(nums,left+1,end)\n",
    "        return nums\n",
    "class Solution:    \n",
    "    def Quick_Sort(self, nums, k):\n",
    "        helper(nums,0,len(nums)-1)\n",
    "        return nums     "
   ]
  },
  {
   "cell_type": "code",
   "execution_count": 3,
   "id": "3c43b943-997d-406f-8491-ad8a64556225",
   "metadata": {},
   "outputs": [
    {
     "data": {
      "text/plain": [
       "[1, 1, 2, 3, 4, 5, 5, 6, 6]"
      ]
     },
     "execution_count": 3,
     "metadata": {},
     "output_type": "execute_result"
    }
   ],
   "source": [
    "nums = [4,3,2,1,5,6,6,1,5]\n",
    "Solution().Quick_Sort(nums,5)"
   ]
  },
  {
   "cell_type": "code",
   "execution_count": null,
   "id": "23b177df-9e7f-4ae2-bcb0-8fc72cb4fb99",
   "metadata": {},
   "outputs": [],
   "source": []
  }
 ],
 "metadata": {
  "kernelspec": {
   "display_name": "Python 3 (ipykernel)",
   "language": "python",
   "name": "python3"
  },
  "language_info": {
   "codemirror_mode": {
    "name": "ipython",
    "version": 3
   },
   "file_extension": ".py",
   "mimetype": "text/x-python",
   "name": "python",
   "nbconvert_exporter": "python",
   "pygments_lexer": "ipython3",
   "version": "3.9.7"
  }
 },
 "nbformat": 4,
 "nbformat_minor": 5
}
