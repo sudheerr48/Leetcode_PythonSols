{
 "cells": [
  {
   "cell_type": "markdown",
   "id": "325eca4e-b186-416a-bb24-f3fa4bf257b0",
   "metadata": {},
   "source": [
    "# 252. Meeting Rooms\n",
    "\n",
    "Given an array of meeting time intervals where intervals[i] = [starti, endi], determine if a person could attend all meetings.\n",
    "\n",
    "Example 1:\n",
    "\n",
    "Input: intervals = [[0,30],[5,10],[15,20]]\n",
    "Output: false\n",
    "Example 2:\n",
    "\n",
    "Input: intervals = [[7,10],[2,4]]\n",
    "Output: true\n"
   ]
  },
  {
   "cell_type": "code",
   "execution_count": 1,
   "id": "2a253242-29a0-4ce0-aab2-82a154cb156c",
   "metadata": {},
   "outputs": [],
   "source": [
    "class Solution(object):\n",
    "    def canAttendMeetings(self, intervals):\n",
    "        \"\"\"\n",
    "        :type intervals: List[List[int]]\n",
    "        :rtype: bool\n",
    "        \"\"\"\n",
    "        intervals.sort(key = lambda x: x[0])\n",
    "        for i in range(len(intervals)-1):\n",
    "            if intervals[i][1] > intervals[i+1][0]:\n",
    "                return False\n",
    "        return True"
   ]
  },
  {
   "cell_type": "code",
   "execution_count": 3,
   "id": "f79c88f3-aef7-466f-968c-0c561f119799",
   "metadata": {},
   "outputs": [
    {
     "name": "stdout",
     "output_type": "stream",
     "text": [
      "False\n"
     ]
    }
   ],
   "source": [
    "intervals = [[0,30],[5,10],[15,20]]\n",
    "s = Solution()\n",
    "print(s.canAttendMeetings(intervals))"
   ]
  },
  {
   "cell_type": "code",
   "execution_count": null,
   "id": "7959eb60-e103-42f6-a577-6b5b9fa53cb9",
   "metadata": {},
   "outputs": [],
   "source": []
  }
 ],
 "metadata": {
  "kernelspec": {
   "display_name": "Python 3 (ipykernel)",
   "language": "python",
   "name": "python3"
  },
  "language_info": {
   "codemirror_mode": {
    "name": "ipython",
    "version": 3
   },
   "file_extension": ".py",
   "mimetype": "text/x-python",
   "name": "python",
   "nbconvert_exporter": "python",
   "pygments_lexer": "ipython3",
   "version": "3.9.7"
  }
 },
 "nbformat": 4,
 "nbformat_minor": 5
}
