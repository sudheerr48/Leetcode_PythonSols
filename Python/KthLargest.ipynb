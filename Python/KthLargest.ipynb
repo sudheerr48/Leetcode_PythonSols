{
 "cells": [
  {
   "cell_type": "markdown",
   "id": "f74ea956-6cba-4c2c-86b8-ee90ecb9dd85",
   "metadata": {},
   "source": [
    "# 215. Kth Largest Element in an Array\n",
    "\n",
    "Given an integer array nums and an integer k, return the kth largest element in the array.\n",
    "\n",
    "Note that it is the kth largest element in the sorted order, not the kth distinct element.\n",
    "\n",
    "Example 1:\n",
    "\n",
    "Input: nums = [3,2,1,5,6,4], k = 2\n",
    "\n",
    "Output: 5\n",
    "\n",
    "\n",
    "Example 2:\n",
    "\n",
    "Input: nums = [3,2,3,1,2,4,5,5,6], k = 4\n",
    "\n",
    "Output: 4"
   ]
  },
  {
   "cell_type": "markdown",
   "id": "1218bc5d-bf2d-4234-a37a-ecd1f4972b31",
   "metadata": {},
   "source": [
    "## Solution 1\n",
    "Heap Solution \n",
    "\n",
    "The idea is to init a heap \"the smallest element first\", and add all elements from the array into this heap one by one keeping the size of the heap always less or equal to k. That would results in a heap containing k largest elements of the array.\n",
    "\n",
    "The head of this heap is the answer, i.e. the kth largest element of the array.\n",
    "\n",
    "The time complexity of adding an element in a heap of size k is \\mathcal{O}(\\log k)O(logk), and we do it N times that means \\mathcal{O}(N \\log k)O(Nlogk) time complexity for the algorithm.\n",
    "\n",
    "In Python there is a method nlargest in heapq library which has the same \\mathcal{O}(N \\log k)O(Nlogk) time complexity and reduces the code to one line.\n",
    "\n",
    "This algorithm improves time complexity, but one pays with \\mathcal{O}(k)O(k) space complexity.\n"
   ]
  },
  {
   "cell_type": "code",
   "execution_count": 3,
   "id": "6a66365c-e93b-4bf9-b562-a0094a63e8de",
   "metadata": {},
   "outputs": [],
   "source": [
    "import heapq\n",
    "class Solution:\n",
    "    def findKthLargest(self, nums, k):\n",
    "        \"\"\"\n",
    "        :type nums: List[int]\n",
    "        :type k: int\n",
    "        :rtype: int\n",
    "        \"\"\"\n",
    "        return heapq.nlargest(k, nums)[-1]"
   ]
  },
  {
   "cell_type": "code",
   "execution_count": 4,
   "id": "47376aa3-e45b-4e7e-9784-f89e154ea7ba",
   "metadata": {},
   "outputs": [
    {
     "data": {
      "text/plain": [
       "5"
      ]
     },
     "execution_count": 4,
     "metadata": {},
     "output_type": "execute_result"
    }
   ],
   "source": [
    "nums = [3,2,1,5,6,4]\n",
    "k = 2\n",
    "s = Solution()\n",
    "s.findKthLargest(nums,k)"
   ]
  },
  {
   "cell_type": "markdown",
   "id": "0fc01517-486d-4004-845e-2ff2646e3b3d",
   "metadata": {},
   "source": [
    "## Solution2 Quickselect\n",
    "\n",
    "The approach is basically the same as for quicksort. For simplicity let's notice that kth largest element is the same as N - kth smallest element, hence one could implement kth smallest algorithm for this problem.\n",
    "\n",
    "First one chooses a pivot, and defines its position in a sorted array in a linear time. This could be done with the help of partition algorithm.\n",
    "\n",
    "To implement partition one moves along an array, compares each element with a pivot, and moves all elements smaller than pivot to the left of the pivot.\n",
    "\n",
    "As an output we have an array where pivot is on its perfect position in the ascending sorted array, all elements on the left of the pivot are smaller than pivot, and all elements on the right of the pivot are larger or equal to pivot.\n",
    "\n",
    "Hence the array is now split into two parts. If that would be a quicksort algorithm, one would proceed recursively to use quicksort for the both parts that would result in \\mathcal{O}(N \\log N)O(NlogN) time complexity. Here there is no need to deal with both parts since now one knows in which part to search for N - kth smallest element, and that reduces average time complexity to \\mathcal{O}(N)O(N).\n",
    "\n",
    "Finally the overall algorithm is quite straightforward :\n",
    "\n",
    "Choose a random pivot.\n",
    "\n",
    "Use a partition algorithm to place the pivot into its perfect position pos in the sorted array, move smaller elements to the left of pivot, and larger or equal ones - to the right.\n",
    "\n",
    "Compare pos and N - k to choose the side of array to proceed recursively."
   ]
  },
  {
   "cell_type": "code",
   "execution_count": 8,
   "id": "f9c58d9d-a433-475b-b7ac-34b7f319673c",
   "metadata": {},
   "outputs": [],
   "source": [
    "# Solution 2:- using quickselect\n",
    "# TBD\n",
    "import random\n",
    "class Solution:\n",
    "    def findKthLargest_qselect(self, nums, k):\n",
    "        \"\"\"\n",
    "        :type nums: List[int]\n",
    "        :type k: int\n",
    "        :rtype: int\n",
    "        \"\"\"\n",
    "        def partition(left, right, pivot_index):\n",
    "            pivot = nums[pivot_index]\n",
    "            # 1. move pivot to end\n",
    "            nums[pivot_index], nums[right] = nums[right], nums[pivot_index]  \n",
    "            \n",
    "            # 2. move all smaller elements to the left\n",
    "            store_index = left\n",
    "            for i in range(left, right):\n",
    "                if nums[i] < pivot:\n",
    "                    nums[store_index], nums[i] = nums[i], nums[store_index]\n",
    "                    store_index += 1\n",
    "\n",
    "            # 3. move pivot to its final place\n",
    "            nums[right], nums[store_index] = nums[store_index], nums[right]  \n",
    "            \n",
    "            return store_index\n",
    "        \n",
    "        def select(left, right, k_smallest):\n",
    "            \"\"\"\n",
    "            Returns the k-th smallest element of list within left..right\n",
    "            \"\"\"\n",
    "            if left == right:       # If the list contains only one element,\n",
    "                return nums[left]   # return that element\n",
    "            \n",
    "            # select a random pivot_index between \n",
    "            pivot_index = random.randint(left, right)     \n",
    "                            \n",
    "            # find the pivot position in a sorted list   \n",
    "            pivot_index = partition(left, right, pivot_index)\n",
    "            \n",
    "            # the pivot is in its final sorted position\n",
    "            if k_smallest == pivot_index:\n",
    "                 return nums[k_smallest]\n",
    "            # go left\n",
    "            elif k_smallest < pivot_index:\n",
    "                return select(left, pivot_index - 1, k_smallest)\n",
    "            # go right\n",
    "            else:\n",
    "                return select(pivot_index + 1, right, k_smallest)\n",
    "\n",
    "        # kth largest is (n - k)th smallest \n",
    "        return select(0, len(nums) - 1, len(nums) - k)\n",
    "        \n",
    "        \n",
    "        \n",
    "        \n",
    "        "
   ]
  },
  {
   "cell_type": "code",
   "execution_count": 9,
   "id": "07f44e0b-f02d-400c-b091-f283c05627a0",
   "metadata": {},
   "outputs": [
    {
     "data": {
      "text/plain": [
       "5"
      ]
     },
     "execution_count": 9,
     "metadata": {},
     "output_type": "execute_result"
    }
   ],
   "source": [
    "nums = [3,2,1,5,6,4]\n",
    "k = 2\n",
    "s = Solution()\n",
    "s.findKthLargest_qselect(nums,k)"
   ]
  },
  {
   "cell_type": "code",
   "execution_count": null,
   "id": "5f97793d-98dc-4e70-b07b-fd729fb2147b",
   "metadata": {},
   "outputs": [],
   "source": []
  }
 ],
 "metadata": {
  "kernelspec": {
   "display_name": "Python 3 (ipykernel)",
   "language": "python",
   "name": "python3"
  },
  "language_info": {
   "codemirror_mode": {
    "name": "ipython",
    "version": 3
   },
   "file_extension": ".py",
   "mimetype": "text/x-python",
   "name": "python",
   "nbconvert_exporter": "python",
   "pygments_lexer": "ipython3",
   "version": "3.9.7"
  }
 },
 "nbformat": 4,
 "nbformat_minor": 5
}
