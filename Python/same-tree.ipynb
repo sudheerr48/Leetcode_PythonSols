{
 "cells": [
  {
   "cell_type": "markdown",
   "id": "1a065274-1baf-4cf7-a139-ff7b630fb472",
   "metadata": {},
   "source": [
    "# 100. Same Tree\n",
    "Given the roots of two binary trees p and q, write a function to check if they are the same or not.\n",
    "\n",
    "Two binary trees are considered the same if they are structurally identical, and the nodes have the same value."
   ]
  },
  {
   "cell_type": "code",
   "execution_count": 3,
   "id": "0e9f0d4d-ae48-4cb8-9c8b-50c499954edd",
   "metadata": {},
   "outputs": [],
   "source": [
    "from typing import Optional\n",
    "class TreeNode:\n",
    "     def __init__(self, val=0, left=None, right=None):\n",
    "         self.val = val\n",
    "         self.left = left\n",
    "         self.right = right\n",
    "class Solution:\n",
    "    def isSameTree(self, p: Optional[TreeNode], q: Optional[TreeNode]) -> bool:\n",
    "        # Both are empty return true\n",
    "        if not p and not q:\n",
    "            return True\n",
    "        # one is empty and other ain't return False\n",
    "        if not p or not q:\n",
    "            return False\n",
    "        # p val and q val are same , check for their left tree and right tree \n",
    "        if p.val == q.val:\n",
    "            return (self.isSameTree(p.left,q.left) and self.isSameTree(p.right,q.right))"
   ]
  }
 ],
 "metadata": {
  "kernelspec": {
   "display_name": "Python 3 (ipykernel)",
   "language": "python",
   "name": "python3"
  },
  "language_info": {
   "codemirror_mode": {
    "name": "ipython",
    "version": 3
   },
   "file_extension": ".py",
   "mimetype": "text/x-python",
   "name": "python",
   "nbconvert_exporter": "python",
   "pygments_lexer": "ipython3",
   "version": "3.9.7"
  }
 },
 "nbformat": 4,
 "nbformat_minor": 5
}
