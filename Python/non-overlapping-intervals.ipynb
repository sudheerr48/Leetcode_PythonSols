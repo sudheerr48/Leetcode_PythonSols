{
 "cells": [
  {
   "cell_type": "markdown",
   "id": "f237a849-ddd8-42d1-a8d6-e5f3229c17b4",
   "metadata": {},
   "source": [
    "# 435. Non-overlapping Intervals\n",
    "\n",
    "Given an array of intervals intervals where intervals[i] = [starti, endi], return the minimum number of intervals you need to remove to make the rest of the intervals non-overlapping.\n",
    "\n",
    "Input: intervals = [[1,2],[2,3],[3,4],[1,3]]\n",
    "Output: 1\n",
    "Explanation: [1,3] can be removed and the rest of the intervals are non-overlapping.\n",
    "\n",
    "Input: intervals = [[1,2],[1,2],[1,2]]\n",
    "Output: 2\n",
    "Explanation: You need to remove two [1,2] to make the rest of the intervals non-overlapping.\n",
    "\n",
    "Input: intervals = [[1,2],[2,3]]\n",
    "Output: 0\n",
    "Explanation: You don't need to remove any of the intervals since they're already non-overlapping."
   ]
  },
  {
   "cell_type": "code",
   "execution_count": 4,
   "id": "a9d9f39a-aefc-460a-9e67-27bd727c48f8",
   "metadata": {},
   "outputs": [],
   "source": [
    "# Solution 1 -> To-do Dp solution \n",
    "from typing import List\n",
    "import heapq\n",
    "class Solution:\n",
    "    def eraseOverlapIntervals(self, intervals: List[List[int]]) -> int:\n",
    "        if len(intervals) <=1:\n",
    "            return 0\n",
    "        intervals.sort(key=lambda k:(k[1],k[0]))\n",
    "        #print(intervals)\n",
    "        meeting_room = []\n",
    "        count=0\n",
    "        ps = []\n",
    "        heapq.heapify(meeting_room)\n",
    "        heapq.heappush(meeting_room,intervals[0])\n",
    "        for i in range(1,len(intervals)):\n",
    "            #print(intervals[i])\n",
    "            #print(meeting_room[-1][1])\n",
    "            if meeting_room[-1][1] <= intervals[i][0]:\n",
    "                heapq.heappushpop(meeting_room,intervals[i])\n",
    "            else:\n",
    "                count+=1\n",
    "                ps.append(intervals[i])\n",
    "        #print(\"Not needed meetings\")\n",
    "        #print(ps)\n",
    "        return count"
   ]
  },
  {
   "cell_type": "code",
   "execution_count": 5,
   "id": "fd8e474e-be14-4af0-bee7-67b23cbd09b7",
   "metadata": {},
   "outputs": [
    {
     "name": "stdout",
     "output_type": "stream",
     "text": [
      "2\n"
     ]
    }
   ],
   "source": [
    "intervals = [[1,2],[1,2],[1,2]]\n",
    "s = Solution()\n",
    "print(s.eraseOverlapIntervals(intervals))"
   ]
  },
  {
   "cell_type": "code",
   "execution_count": null,
   "id": "54dcc30b-fb46-4896-bdef-ac063dc9e2e9",
   "metadata": {},
   "outputs": [],
   "source": []
  }
 ],
 "metadata": {
  "kernelspec": {
   "display_name": "Python 3 (ipykernel)",
   "language": "python",
   "name": "python3"
  },
  "language_info": {
   "codemirror_mode": {
    "name": "ipython",
    "version": 3
   },
   "file_extension": ".py",
   "mimetype": "text/x-python",
   "name": "python",
   "nbconvert_exporter": "python",
   "pygments_lexer": "ipython3",
   "version": "3.9.7"
  }
 },
 "nbformat": 4,
 "nbformat_minor": 5
}
