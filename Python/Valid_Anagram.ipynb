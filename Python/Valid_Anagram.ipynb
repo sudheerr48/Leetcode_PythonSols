{
 "cells": [
  {
   "cell_type": "markdown",
   "id": "193c3bea-c8f6-4f44-85a2-25ff7d217b98",
   "metadata": {},
   "source": [
    "# 242 Valid Anagram \n",
    "\n",
    "Given two strings s and t, return true if t is an anagram of s, and false otherwise.\n",
    "\n",
    "An Anagram is a word or phrase formed by rearranging the letters of a different word or phrase, typically using all the original letters exactly once.\n",
    "\n",
    "\n",
    "Input: s = \"anagram\", t = \"nagaram\"\n",
    "Output: true\n",
    "\n"
   ]
  },
  {
   "cell_type": "code",
   "execution_count": 12,
   "id": "01546eb3-8950-4776-b807-7d98bebf8134",
   "metadata": {},
   "outputs": [],
   "source": [
    "class Solution:\n",
    "    def isAnagram(self, s, t):\n",
    "        '''\n",
    "        sol-1\n",
    "        build hashmap for both strings to capture characters and their counts\n",
    "        if both hashmaps are equal then return true else false\n",
    "        part-1 O(N) -> for building hashmap\n",
    "        part-2 O(N) for comparing counts in both hashmaps\n",
    "        \n",
    "        Space complexity -> 2 O(n) \n",
    "        \n",
    "        '''\n",
    "        h_m_s = {}\n",
    "        h_m_t = {}\n",
    "        \n",
    "        len_s = len(s)\n",
    "        len_t = len(t)\n",
    "        \n",
    "        if len_s != len_t:\n",
    "            return False\n",
    "        \n",
    "        \n",
    "        for c in range(0,len_s):\n",
    "            elem_c = s[c]\n",
    "            elem_t = t[c]\n",
    "            if elem_c in h_m_s:\n",
    "                h_m_s[elem_c]+=1\n",
    "            else:\n",
    "                h_m_s[elem_c] = 1\n",
    "            if elem_t in h_m_t:\n",
    "                h_m_t[elem_t]+=1\n",
    "            else:\n",
    "                h_m_t[elem_t] =1\n",
    "\n",
    "        for k in h_m_s.keys():\n",
    "            if k not in h_m_t or h_m_s[k] !=  h_m_t[k]:\n",
    "                return False\n",
    "        return True"
   ]
  },
  {
   "cell_type": "code",
   "execution_count": 13,
   "id": "8b447e02-2c55-477f-83e0-c04983a4b75d",
   "metadata": {},
   "outputs": [
    {
     "name": "stdout",
     "output_type": "stream",
     "text": [
      "True\n"
     ]
    }
   ],
   "source": [
    "s=\"anagram\"\n",
    "t=\"nagaram\"\n",
    "s1=Solution()\n",
    "print(s1.isAnagram(s,t))"
   ]
  },
  {
   "cell_type": "code",
   "execution_count": 14,
   "id": "e43543c1-3474-4f3f-8508-8298a23f43be",
   "metadata": {},
   "outputs": [
    {
     "name": "stdout",
     "output_type": "stream",
     "text": [
      "False\n"
     ]
    }
   ],
   "source": [
    "s=\"car\"\n",
    "t=\"rat\"\n",
    "s1=Solution()\n",
    "print(s1.isAnagram(s,t))"
   ]
  },
  {
   "cell_type": "code",
   "execution_count": 25,
   "id": "d59d7d8b-d4ae-4547-921b-50750f8adbda",
   "metadata": {},
   "outputs": [],
   "source": [
    "class Solution:\n",
    "    def isAnagram_sol2(self, s, t):\n",
    "        '''\n",
    "        sol-2\n",
    "        1. create hashmap and will doing it use single hashmap to increment and decrement counts\n",
    "        2. each value in final dictionary should be 0  \n",
    "        Space complexity ->  O(n)\n",
    "        '''\n",
    "        h_m = {}\n",
    "        \n",
    "        len_s = len(s)\n",
    "        len_t = len(t)\n",
    "        \n",
    "        if len_s != len_t:\n",
    "            return False\n",
    "        \n",
    "        \n",
    "        for c in range(0,len_s):\n",
    "            elem_c = s[c]\n",
    "            elem_t = t[c]\n",
    "            if elem_c in h_m:\n",
    "                h_m[elem_c]+=1\n",
    "            else:\n",
    "                h_m[elem_c]=1\n",
    "            if elem_t in h_m:\n",
    "                h_m[elem_t]-=1\n",
    "            else:\n",
    "                h_m[elem_t]= -1\n",
    "            #print(h_m)\n",
    "        #print(h_m)\n",
    "        for v in h_m.values():\n",
    "            if v!=0:\n",
    "                return False\n",
    "        return True"
   ]
  },
  {
   "cell_type": "code",
   "execution_count": 26,
   "id": "43e3eeb7-6aa9-45cb-a057-357ceb7408bf",
   "metadata": {},
   "outputs": [
    {
     "name": "stdout",
     "output_type": "stream",
     "text": [
      "True\n"
     ]
    }
   ],
   "source": [
    "s=\"anagram\"\n",
    "t=\"nagaram\"\n",
    "s1=Solution()\n",
    "print(s1.isAnagram_sol2(s,t))"
   ]
  },
  {
   "cell_type": "code",
   "execution_count": 27,
   "id": "ec33d409-a61d-4bee-a225-2b54c9a5bdff",
   "metadata": {},
   "outputs": [
    {
     "name": "stdout",
     "output_type": "stream",
     "text": [
      "False\n"
     ]
    }
   ],
   "source": [
    "s=\"car\"\n",
    "t=\"rat\"\n",
    "s1=Solution()\n",
    "print(s1.isAnagram_sol2(s,t))"
   ]
  },
  {
   "cell_type": "markdown",
   "id": "ff2421f3-07d1-4fe1-917d-c4ab6c0fab66",
   "metadata": {},
   "source": [
    "### sol3\n",
    "\n",
    "Sol3 is presorting and checking if elems in both are same at same index\n",
    "\n",
    "O(nlogn) is for sorting\n",
    "O(n) is for comparision\n",
    "\n"
   ]
  },
  {
   "cell_type": "code",
   "execution_count": null,
   "id": "eecd2956-5f02-4889-80b6-b4cb7c7d06ae",
   "metadata": {},
   "outputs": [],
   "source": []
  }
 ],
 "metadata": {
  "kernelspec": {
   "display_name": "Python 3 (ipykernel)",
   "language": "python",
   "name": "python3"
  },
  "language_info": {
   "codemirror_mode": {
    "name": "ipython",
    "version": 3
   },
   "file_extension": ".py",
   "mimetype": "text/x-python",
   "name": "python",
   "nbconvert_exporter": "python",
   "pygments_lexer": "ipython3",
   "version": "3.9.7"
  }
 },
 "nbformat": 4,
 "nbformat_minor": 5
}
