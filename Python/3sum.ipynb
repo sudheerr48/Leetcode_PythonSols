{
 "cells": [
  {
   "cell_type": "markdown",
   "id": "2e343c5d-d76a-4e4a-b12b-fdef4992bda7",
   "metadata": {},
   "source": [
    "# 15.3Sum\n",
    "Given an integer array nums, return all the triplets [nums[i], nums[j], nums[k]] such that i != j, i != k, and j != k, and nums[i] + nums[j] + nums[k] == 0.\n",
    "\n",
    "Notice that the solution set must not contain duplicate triplets.\n",
    "\n",
    " \n",
    "\n",
    "Example 1:\n",
    "\n",
    "Input: nums = [-1,0,1,2,-1,-4]\n",
    "Output: [[-1,-1,2],[-1,0,1]]\n",
    "Example 2:\n",
    "\n",
    "Input: nums = []\n",
    "Output: []\n",
    "Example 3:\n",
    "\n",
    "Input: nums = [0]\n",
    "Output: []\n",
    "\n",
    "## Solution - 1\n",
    "Pre-sorting and 2 pointer solution\n",
    "Pre sort the array and then let 2 pointer solution provide matching target"
   ]
  },
  {
   "cell_type": "code",
   "execution_count": 1,
   "id": "212940aa-071d-4c31-90e2-9e794f2d789e",
   "metadata": {},
   "outputs": [
    {
     "data": {
      "text/plain": [
       "[[-1, -1, 2], [-1, 0, 1]]"
      ]
     },
     "execution_count": 1,
     "metadata": {},
     "output_type": "execute_result"
    }
   ],
   "source": [
    "def twoSumII( nums, i, res):\n",
    "            lo, hi = i + 1, len(nums) - 1\n",
    "            while (lo < hi):\n",
    "                sum = nums[i] + nums[lo] + nums[hi]\n",
    "                if sum < 0:\n",
    "                    lo += 1\n",
    "                elif sum > 0:\n",
    "                    hi -= 1\n",
    "                else:\n",
    "                    res.append([nums[i], nums[lo], nums[hi]])\n",
    "                    lo += 1\n",
    "                    hi -= 1\n",
    "                    while lo < hi and nums[lo] == nums[lo - 1]:\n",
    "                        lo += 1 \n",
    "class Solution(object):                   \n",
    "    def threeSum(self, nums):\n",
    "        \"\"\"\n",
    "        :type nums: List[int]\n",
    "        :rtype: List[List[int]]\n",
    "        \"\"\"\n",
    "        nums.sort()\n",
    "        res = []\n",
    "        for i in range(len(nums)):\n",
    "            if nums[i] > 0: # [2,3,4...] if 2>0 there wont be any combination for it\n",
    "                break\n",
    "            if i == 0 or nums[i - 1] != nums[i]: # [-2,-1,-1,0,1....]\n",
    "                twoSumII(nums, i, res)\n",
    "        return res\n",
    "        \n",
    "                \n",
    "s=Solution()\n",
    "nums = [-1,0,1,2,-1,-4]\n",
    "s.threeSum(nums)\n"
   ]
  },
  {
   "cell_type": "markdown",
   "id": "8833508f-3df2-42d0-b038-0cc0e9f5364b",
   "metadata": {},
   "source": [
    "## Solution 2\n",
    "\n",
    "once array list is sorted , we can use a hashmap(set) in this case to find if there is triplet \n",
    "\n"
   ]
  },
  {
   "cell_type": "code",
   "execution_count": 2,
   "id": "8715f0d4-f450-44f3-83cb-f4f62338f25b",
   "metadata": {},
   "outputs": [
    {
     "data": {
      "text/plain": [
       "[[-1, 1, 0], [-1, 2, -1]]"
      ]
     },
     "execution_count": 2,
     "metadata": {},
     "output_type": "execute_result"
    }
   ],
   "source": [
    "def twoSum( nums, i, res):\n",
    "        seen = set()\n",
    "        j = i + 1\n",
    "        while j < len(nums):\n",
    "            complement = -nums[i] - nums[j]\n",
    "            if complement in seen:\n",
    "                res.append([nums[i], nums[j], complement])\n",
    "                while j + 1 < len(nums) and nums[j] == nums[j + 1]:\n",
    "                    j += 1\n",
    "            seen.add(nums[j])\n",
    "            j += 1\n",
    "class Solution(object):                   \n",
    "    def threeSum(self, nums):\n",
    "        \"\"\"\n",
    "        :type nums: List[int]\n",
    "        :rtype: List[List[int]]\n",
    "        \"\"\"\n",
    "        nums.sort()\n",
    "        res = []\n",
    "        for i in range(len(nums)):\n",
    "            if nums[i] > 0: # [2,3,4...] if 2>0 there wont be any combination for it\n",
    "                break\n",
    "            if i == 0 or nums[i - 1] != nums[i]: # [-2,-1,-1,0,1....]\n",
    "                twoSum(nums, i, res)\n",
    "        return res\n",
    "    \n",
    "s=Solution()\n",
    "nums = [-1,0,1,2,-1,-4]\n",
    "s.threeSum(nums)  "
   ]
  },
  {
   "cell_type": "markdown",
   "id": "eb45def6-c070-4ec5-9bb0-7168e97cd9a5",
   "metadata": {},
   "source": [
    "## Solution 3 \"No-Sort\" Approach\n"
   ]
  }
 ],
 "metadata": {
  "kernelspec": {
   "display_name": "Python 3 (ipykernel)",
   "language": "python",
   "name": "python3"
  },
  "language_info": {
   "codemirror_mode": {
    "name": "ipython",
    "version": 3
   },
   "file_extension": ".py",
   "mimetype": "text/x-python",
   "name": "python",
   "nbconvert_exporter": "python",
   "pygments_lexer": "ipython3",
   "version": "3.9.7"
  }
 },
 "nbformat": 4,
 "nbformat_minor": 5
}
