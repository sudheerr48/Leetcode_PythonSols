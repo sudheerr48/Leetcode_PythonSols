{
 "cells": [
  {
   "cell_type": "markdown",
   "id": "34acf586",
   "metadata": {},
   "source": [
    "# 347. Top K Frequent Elements\n",
    "\n",
    "## Problem\n",
    "\n",
    "Given an integer array nums and an integer k, return the k most frequent elements. You may return the answer in any order.\n",
    "\n",
    " \n",
    "\n",
    "Example 1:\n",
    "\n",
    "Input: nums = [1,1,1,2,2,3], k = 2\n",
    "Output: [1,2]\n",
    "Example 2:\n",
    "\n",
    "Input: nums = [1], k = 1\n",
    "Output: [1]\n",
    "\n",
    "## Solution  \n",
    "\n",
    "1.Think how can we get 3 largets elements in a list or 3 smallest element in a list\n",
    "\n",
    "2.For solving above the best possible way is to use min_heap/max_heap where you can obtain smallest /largest fastly \n",
    "\n",
    "3.Above solution is transform and lookup solution , but if we want to do a pre-sorting and sorting methodology kind of solution\n",
    "\n",
    "4.We can't use insertion/selection/bubble hence remaining sorts are merge sort (difference/union/set etc ..) and Quick sort (Quick select methodology)\n",
    "\n",
    "5.Quick select is a process where you choose a pivot (random value in list) and while sorting the list based on pivot if index of interst is available we can return it\n",
    "\n",
    "\n",
    "Time complexity : \\mathcal{O}(N \\log k)O(Nlogk) if k < Nk<N and \\mathcal{O}(N)O(N) in the particular case of N = kN=k. That ensures time complexity to be better than \\mathcal{O}(N \\log N)O(NlogN).\n",
    "\n",
    "Space complexity : \\mathcal{O}(N + k)O(N+k) to store the hash map with not more NN elements and a heap with kk elements.\n"
   ]
  },
  {
   "cell_type": "code",
   "execution_count": 2,
   "id": "3d8b9bfb",
   "metadata": {},
   "outputs": [],
   "source": [
    "# Solution 1:- using heapq\n",
    "\n",
    "import heapq\n",
    "class Solution1(object):\n",
    "    def topKFrequent(self, nums, k):\n",
    "        \"\"\"\n",
    "        :type nums: List[int]\n",
    "        :type k: int\n",
    "        :rtype: List[int]\n",
    "        \"\"\"\n",
    "        h_m = {}\n",
    "        f_list = []\n",
    "        for elem in nums:\n",
    "            if elem in h_m.keys():\n",
    "                h_m[elem]+=1\n",
    "            else:\n",
    "                h_m[elem] = 1\n",
    "        \n",
    "        return heapq.nlargest(k,h_m.keys(),key = h_m.get)\n",
    "            \n",
    "        \n",
    "        \n",
    "        "
   ]
  },
  {
   "cell_type": "code",
   "execution_count": 3,
   "id": "b3d5894d",
   "metadata": {},
   "outputs": [
    {
     "name": "stdout",
     "output_type": "stream",
     "text": [
      "[1, 2]\n"
     ]
    }
   ],
   "source": [
    "s = Solution1()\n",
    "\n",
    "nums = [1,1,1,2,2,3]\n",
    "k = 2\n",
    "print(s.topKFrequent(nums,k))"
   ]
  },
  {
   "cell_type": "markdown",
   "id": "4b77d9eb-b7d5-4ae7-ab47-ba4b773155d0",
   "metadata": {},
   "source": [
    "## Solution 2\n",
    "\n",
    "Approach 2: Quickselect (Hoare's selection algorithm)\n",
    "Quickselect is a textbook algorthm typically used to solve the problems \"find kth something\": kth smallest, kth largest, kth most frequent, kth less frequent, etc. Like quicksort, quickselect was developed by Tony Hoare, and also known as Hoare's selection algorithm.\n",
    "\n",
    "It has \\mathcal{O}(N)O(N) average time complexity and is widely used in practice. It worth noting that its worst-case time complexity is \\mathcal{O}(N^2)O(N \n",
    "2\n",
    " ), although the probability of this worst-case is negligible.\n",
    "\n",
    "The approach is the same as for quicksort.\n",
    "\n",
    "One chooses a pivot and defines its position in a sorted array in a linear time using so-called partition algorithm.\n",
    "\n",
    "As an output, we have an array where the pivot is on its perfect position in the ascending sorted array, sorted by the frequency. All elements on the left of the pivot are less frequent than the pivot, and all elements on the right are more frequent or have the same frequency.\n",
    "\n",
    "Hence the array is now split into two parts. If by chance our pivot element took N - kth final position, then kk elements on the right are these top kk frequent we're looking for. If not, we can choose one more pivot and place it in its perfect position.\n",
    "\n",
    "diff\n",
    "\n",
    "If that were a quicksort algorithm, one would have to process both parts of the array. That would result in \\mathcal{O}(N \\log N)O(NlogN) time complexity. In this case, there is no need to deal with both parts since one knows in which part to search for N - kth less frequent element, and that reduces the average time complexity to $O{O}(N)O(N)."
   ]
  },
  {
   "cell_type": "code",
   "execution_count": 10,
   "id": "d1429ee6",
   "metadata": {},
   "outputs": [],
   "source": [
    "from collections import Counter\n",
    "class Solution:\n",
    "    def topKFrequent(self, nums, k):\n",
    "        count = Counter(nums)\n",
    "        unique = list(count.keys())\n",
    "        \n",
    "        def partition(left, right, pivot_index) -> int:\n",
    "            pivot_frequency = count[unique[pivot_index]]\n",
    "            # 1. move pivot to end\n",
    "            unique[pivot_index], unique[right] = unique[right], unique[pivot_index]  \n",
    "            \n",
    "            # 2. move all less frequent elements to the left\n",
    "            store_index = left\n",
    "            for i in range(left, right):\n",
    "                if count[unique[i]] < pivot_frequency:\n",
    "                    unique[store_index], unique[i] = unique[i], unique[store_index]\n",
    "                    store_index += 1\n",
    "\n",
    "            # 3. move pivot to its final place\n",
    "            unique[right], unique[store_index] = unique[store_index], unique[right]  \n",
    "            \n",
    "            return store_index\n",
    "        \n",
    "        def quickselect(left, right, k_smallest) -> None:\n",
    "            \"\"\"\n",
    "            Sort a list within left..right till kth less frequent element\n",
    "            takes its place. \n",
    "            \"\"\"\n",
    "            # base case: the list contains only one element\n",
    "            if left == right: \n",
    "                return\n",
    "            \n",
    "            # select a random pivot_index\n",
    "            pivot_index = random.randint(left, right)     \n",
    "                            \n",
    "            # find the pivot position in a sorted list   \n",
    "            pivot_index = partition(left, right, pivot_index)\n",
    "            \n",
    "            # if the pivot is in its final sorted position\n",
    "            if k_smallest == pivot_index:\n",
    "                 return \n",
    "            # go left\n",
    "            elif k_smallest < pivot_index:\n",
    "                quickselect(left, pivot_index - 1, k_smallest)\n",
    "            # go right\n",
    "            else:\n",
    "                quickselect(pivot_index + 1, right, k_smallest)\n",
    "         \n",
    "        n = len(unique) \n",
    "        # kth top frequent element is (n - k)th less frequent.\n",
    "        # Do a partial sort: from less frequent to the most frequent, till\n",
    "        # (n - k)th less frequent element takes its place (n - k) in a sorted array. \n",
    "        # All element on the left are less frequent.\n",
    "        # All the elements on the right are more frequent.  \n",
    "        quickselect(0, n - 1, n - k)\n",
    "        # Return top k frequent elements\n",
    "        return unique[n - k:]"
   ]
  },
  {
   "cell_type": "code",
   "execution_count": 13,
   "id": "a1d23521-3fb3-4de8-a79e-f10018aec3af",
   "metadata": {},
   "outputs": [
    {
     "name": "stdout",
     "output_type": "stream",
     "text": [
      "[2, 1]\n"
     ]
    }
   ],
   "source": [
    "s = Solution()\n",
    "nums = [1,1,1,2,2,3]\n",
    "k = 2\n",
    "print(s.topKFrequent(nums,k))"
   ]
  },
  {
   "cell_type": "code",
   "execution_count": null,
   "id": "554cf575-7528-4e10-8e78-953e0a820f3e",
   "metadata": {},
   "outputs": [],
   "source": []
  },
  {
   "cell_type": "code",
   "execution_count": null,
   "id": "c57c099b-d64b-467b-adf7-ad6c026e3c7d",
   "metadata": {},
   "outputs": [],
   "source": []
  }
 ],
 "metadata": {
  "kernelspec": {
   "display_name": "Python 3 (ipykernel)",
   "language": "python",
   "name": "python3"
  },
  "language_info": {
   "codemirror_mode": {
    "name": "ipython",
    "version": 3
   },
   "file_extension": ".py",
   "mimetype": "text/x-python",
   "name": "python",
   "nbconvert_exporter": "python",
   "pygments_lexer": "ipython3",
   "version": "3.9.7"
  }
 },
 "nbformat": 4,
 "nbformat_minor": 5
}
