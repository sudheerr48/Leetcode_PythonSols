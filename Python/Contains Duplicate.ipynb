{
 "cells": [
  {
   "cell_type": "markdown",
   "id": "32201d0b-b116-4956-8e98-dbf759b69b8b",
   "metadata": {},
   "source": [
    "# 217. Contains Duplicate\n",
    "\n",
    "Given an integer array nums, return true if any value appears at least twice in the array, and return false if every element is distinct.\n",
    "\n",
    " \n",
    "\n",
    "Example 1:\n",
    "\n",
    "Input: nums = [1,2,3,1]\n",
    "Output: true\n",
    "\n",
    "Example 2:\n",
    "\n",
    "Input: nums = [1,2,3,4]\n",
    "Output: false\n",
    "\n",
    "Example 3:\n",
    "\n",
    "Input: nums = [1,1,1,3,3,4,3,2,4,2]\n",
    "Output: true\n",
    "\n"
   ]
  },
  {
   "cell_type": "markdown",
   "id": "efbc05ea-f146-4a0a-90ae-d209f86f0f2f",
   "metadata": {},
   "source": [
    "## Solution \n",
    "\n",
    "For Finding Duplicate items in a unsorted list .we can solve it in 2 ways \n",
    "\n",
    "1. Presorting O(nlogn)+search if adjacent elements are equal\n",
    "2. create a hasmap/set to capture elements and see if it already excists in list return duplicate  O(n)\n"
   ]
  },
  {
   "cell_type": "code",
   "execution_count": 4,
   "id": "6bf38011-431f-4fe1-9d27-f75bfdea5318",
   "metadata": {},
   "outputs": [],
   "source": [
    "class Solution:\n",
    "    def containsDuplicate(self, nums):\n",
    "        frq = set()\n",
    "        \n",
    "        for x in nums:\n",
    "            if x in frq:\n",
    "                return True\n",
    "            else:\n",
    "                frq.add(x)\n",
    "        \n",
    "        return False\n",
    "    def containsDuplicate_sorting(self, nums):\n",
    "        nums.sort()\n",
    "        for i in range(len(nums)-2):\n",
    "            if nums[i] == nums[i+1]:\n",
    "                return True\n",
    "        return False\n",
    "        "
   ]
  },
  {
   "cell_type": "code",
   "execution_count": 5,
   "id": "a5b2ba36-33fc-4888-90a7-85642a8070ab",
   "metadata": {},
   "outputs": [
    {
     "data": {
      "text/plain": [
       "True"
      ]
     },
     "execution_count": 5,
     "metadata": {},
     "output_type": "execute_result"
    }
   ],
   "source": [
    "s = Solution()\n",
    "n = [1,2,1,4]\n",
    "s.containsDuplicate(n)"
   ]
  },
  {
   "cell_type": "code",
   "execution_count": 6,
   "id": "cc85dc1f-91d8-4a91-b0b8-b88090b8b7f6",
   "metadata": {},
   "outputs": [
    {
     "data": {
      "text/plain": [
       "True"
      ]
     },
     "execution_count": 6,
     "metadata": {},
     "output_type": "execute_result"
    }
   ],
   "source": [
    "s.containsDuplicate_sorting(n)"
   ]
  },
  {
   "cell_type": "code",
   "execution_count": null,
   "id": "8ee6a0ec-533e-4378-ace0-ed0ef4f214b5",
   "metadata": {},
   "outputs": [],
   "source": []
  }
 ],
 "metadata": {
  "kernelspec": {
   "display_name": "Python 3 (ipykernel)",
   "language": "python",
   "name": "python3"
  },
  "language_info": {
   "codemirror_mode": {
    "name": "ipython",
    "version": 3
   },
   "file_extension": ".py",
   "mimetype": "text/x-python",
   "name": "python",
   "nbconvert_exporter": "python",
   "pygments_lexer": "ipython3",
   "version": "3.9.7"
  }
 },
 "nbformat": 4,
 "nbformat_minor": 5
}
