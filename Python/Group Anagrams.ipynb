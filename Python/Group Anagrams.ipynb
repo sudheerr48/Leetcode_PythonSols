{
 "cells": [
  {
   "cell_type": "markdown",
   "id": "5b4a0cac",
   "metadata": {},
   "source": [
    "# 47. Group Anagrams"
   ]
  },
  {
   "cell_type": "markdown",
   "id": "9b04c2ee",
   "metadata": {},
   "source": [
    "## Problem \n",
    "Given an array of strings strs, group the anagrams together. You can return the answer in any order.\n",
    "\n",
    "An Anagram is a word or phrase formed by rearranging the letters of a different word or phrase, typically using all the original letters exactly once.\n",
    "\n",
    " \n",
    "\n",
    "Example 1:\n",
    "\n",
    "Input: strs = [\"eat\",\"tea\",\"tan\",\"ate\",\"nat\",\"bat\"]\n",
    "Output: [[\"bat\"],[\"nat\",\"tan\"],[\"ate\",\"eat\",\"tea\"]]\n",
    "Example 2:\n",
    "\n",
    "Input: strs = [\"\"]\n",
    "Output: [[\"\"]]\n",
    "Example 3:\n",
    "\n",
    "Input: strs = [\"a\"]\n",
    "Output: [[\"a\"]]\n",
    " \n",
    "\n",
    "Constraints:\n",
    "\n",
    "1 <= strs.length <= 104\n",
    "0 <= strs[i].length <= 100\n",
    "strs[i] consists of lowercase English letters."
   ]
  },
  {
   "cell_type": "markdown",
   "id": "2ff0ddae",
   "metadata": {},
   "source": [
    "## Solution\n",
    "\n",
    "1.Think through the problem , hint u should see is elements that are same/ similar should be in a list together \n",
    "\n",
    "2.Lets say if we sort elements and store them as a key in hashmap and value has unsorted list we have solved the problem "
   ]
  },
  {
   "cell_type": "code",
   "execution_count": 19,
   "id": "f2d0f617",
   "metadata": {},
   "outputs": [],
   "source": [
    "class Solution:\n",
    "    def groupAnagrams(self, strs):\n",
    "        h_m = {}\n",
    "        final_list = []\n",
    "        for each_str in strs:\n",
    "            sorted_characters = sorted(each_str)\n",
    "            list2str = \"\".join(sorted_characters)\n",
    "            if list2str in h_m.keys():\n",
    "                h_m[list2str].append(each_str)\n",
    "            else:\n",
    "                h_m[list2str]=[each_str]\n",
    "        \n",
    "        for v in h_m.values():\n",
    "            final_list.append(v)\n",
    "        return final_list"
   ]
  },
  {
   "cell_type": "code",
   "execution_count": 21,
   "id": "f6192d36",
   "metadata": {},
   "outputs": [
    {
     "name": "stdout",
     "output_type": "stream",
     "text": [
      "[['eat', 'tea', 'ate'], ['tan', 'nat'], ['bat']]\n"
     ]
    }
   ],
   "source": [
    "s = Solution()\n",
    "strs=[\"eat\",\"tea\",\"tan\",\"ate\",\"nat\",\"bat\"]\n",
    "print(s.groupAnagrams(strs))"
   ]
  },
  {
   "cell_type": "code",
   "execution_count": null,
   "id": "dcc81acd",
   "metadata": {},
   "outputs": [],
   "source": []
  }
 ],
 "metadata": {
  "kernelspec": {
   "display_name": "Python 3 (ipykernel)",
   "language": "python",
   "name": "python3"
  },
  "language_info": {
   "codemirror_mode": {
    "name": "ipython",
    "version": 3
   },
   "file_extension": ".py",
   "mimetype": "text/x-python",
   "name": "python",
   "nbconvert_exporter": "python",
   "pygments_lexer": "ipython3",
   "version": "3.9.7"
  }
 },
 "nbformat": 4,
 "nbformat_minor": 5
}
