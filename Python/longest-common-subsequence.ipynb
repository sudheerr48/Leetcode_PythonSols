{
 "cells": [
  {
   "cell_type": "markdown",
   "id": "b5233f9b-e2f6-413c-97f0-79c847cf8fcb",
   "metadata": {},
   "source": [
    "# 1143. Longest Common Subsequence\n",
    "\n",
    "Given two strings text1 and text2, return the length of their longest common subsequence. If there is no common subsequence, return 0.\n",
    "\n",
    "A subsequence of a string is a new string generated from the original string with some characters (can be none) deleted without changing the relative order of the remaining characters.\n",
    "\n",
    "For example, \"ace\" is a subsequence of \"abcde\".\n",
    "A common subsequence of two strings is a subsequence that is common to both strings.\n",
    "\n",
    " \n",
    "\n",
    "Example 1:\n",
    "\n",
    "Input: text1 = \"abcde\", text2 = \"ace\" \n",
    "Output: 3  \n",
    "Explanation: The longest common subsequence is \"ace\" and its length is 3.\n",
    "Example 2:\n",
    "\n",
    "Input: text1 = \"abc\", text2 = \"abc\"\n",
    "Output: 3\n",
    "Explanation: The longest common subsequence is \"abc\" and its length is 3.\n",
    "Example 3:\n",
    "\n",
    "Input: text1 = \"abc\", text2 = \"def\"\n",
    "Output: 0\n",
    "Explanation: There is no such common subsequence, so the result is 0.\n",
    " \n",
    "\n",
    "Constraints:\n",
    "\n",
    "1 <= text1.length, text2.length <= 1000\n",
    "text1 and text2 consist of only lowercase English characters.\n",
    "\n",
    "\n",
    "# Solution 1 \n",
    "\n",
    "Brute Force using Recursion "
   ]
  },
  {
   "cell_type": "code",
   "execution_count": 17,
   "id": "a1b290c6-d93e-47ac-b120-b59e3473d9d6",
   "metadata": {},
   "outputs": [],
   "source": [
    "class Solution(object):\n",
    "    def longestCommonSubsequence_bruteforce(self, text1, text2):\n",
    "        \"\"\"\n",
    "        :type text1: str\n",
    "        :type text2: str\n",
    "        :rtype: int\n",
    "        \"\"\"\n",
    "        \n",
    "        def combinations(ps,i,text,final_list):\n",
    "            if i == len(text):\n",
    "                final_list.append(ps)\n",
    "                return \n",
    "            combinations(ps+text[i],i+1,text,final_list)\n",
    "            combinations(ps,i+1,text,final_list)\n",
    "            return final_list\n",
    "        final_list1 = combinations(\"\",0,text1,[]) \n",
    "        final_list2 = combinations(\"\",0,text2,[]) \n",
    "        print(final_list1)\n",
    "        print(len(final_list1))\n",
    "        print(final_list2)\n",
    "        print(len(final_list2))\n",
    "        \n",
    "        answer_list = []\n",
    "        max_len = 0\n",
    "        for f in final_list2 :\n",
    "            if f in final_list1:\n",
    "                answer_list.append(f)\n",
    "                max_len = max(len(f),max_len)\n",
    "        print(\"Common subsequences\")\n",
    "        print(answer_list)\n",
    "        print(\"Returning max subsequence length\")\n",
    "        return max_len\n",
    "                \n",
    "        \n",
    "        \n",
    "                    "
   ]
  },
  {
   "cell_type": "code",
   "execution_count": 18,
   "id": "173f9c18-6b47-4002-914f-84dbb0f12e28",
   "metadata": {},
   "outputs": [
    {
     "name": "stdout",
     "output_type": "stream",
     "text": [
      "Test Case 1\n",
      "['abcde', 'abcd', 'abce', 'abc', 'abde', 'abd', 'abe', 'ab', 'acde', 'acd', 'ace', 'ac', 'ade', 'ad', 'ae', 'a', 'bcde', 'bcd', 'bce', 'bc', 'bde', 'bd', 'be', 'b', 'cde', 'cd', 'ce', 'c', 'de', 'd', 'e', '']\n",
      "32\n",
      "['ace', 'ac', 'ae', 'a', 'ce', 'c', 'e', '']\n",
      "8\n",
      "Common subsequences\n",
      "['ace', 'ac', 'ae', 'a', 'ce', 'c', 'e', '']\n",
      "Returning max subsequence length\n",
      "3\n",
      " \n",
      "Test Case 2\n",
      "['ezupkr', 'ezupk', 'ezupr', 'ezup', 'ezukr', 'ezuk', 'ezur', 'ezu', 'ezpkr', 'ezpk', 'ezpr', 'ezp', 'ezkr', 'ezk', 'ezr', 'ez', 'eupkr', 'eupk', 'eupr', 'eup', 'eukr', 'euk', 'eur', 'eu', 'epkr', 'epk', 'epr', 'ep', 'ekr', 'ek', 'er', 'e', 'zupkr', 'zupk', 'zupr', 'zup', 'zukr', 'zuk', 'zur', 'zu', 'zpkr', 'zpk', 'zpr', 'zp', 'zkr', 'zk', 'zr', 'z', 'upkr', 'upk', 'upr', 'up', 'ukr', 'uk', 'ur', 'u', 'pkr', 'pk', 'pr', 'p', 'kr', 'k', 'r', '']\n",
      "64\n",
      "['ubmrapg', 'ubmrap', 'ubmrag', 'ubmra', 'ubmrpg', 'ubmrp', 'ubmrg', 'ubmr', 'ubmapg', 'ubmap', 'ubmag', 'ubma', 'ubmpg', 'ubmp', 'ubmg', 'ubm', 'ubrapg', 'ubrap', 'ubrag', 'ubra', 'ubrpg', 'ubrp', 'ubrg', 'ubr', 'ubapg', 'ubap', 'ubag', 'uba', 'ubpg', 'ubp', 'ubg', 'ub', 'umrapg', 'umrap', 'umrag', 'umra', 'umrpg', 'umrp', 'umrg', 'umr', 'umapg', 'umap', 'umag', 'uma', 'umpg', 'ump', 'umg', 'um', 'urapg', 'urap', 'urag', 'ura', 'urpg', 'urp', 'urg', 'ur', 'uapg', 'uap', 'uag', 'ua', 'upg', 'up', 'ug', 'u', 'bmrapg', 'bmrap', 'bmrag', 'bmra', 'bmrpg', 'bmrp', 'bmrg', 'bmr', 'bmapg', 'bmap', 'bmag', 'bma', 'bmpg', 'bmp', 'bmg', 'bm', 'brapg', 'brap', 'brag', 'bra', 'brpg', 'brp', 'brg', 'br', 'bapg', 'bap', 'bag', 'ba', 'bpg', 'bp', 'bg', 'b', 'mrapg', 'mrap', 'mrag', 'mra', 'mrpg', 'mrp', 'mrg', 'mr', 'mapg', 'map', 'mag', 'ma', 'mpg', 'mp', 'mg', 'm', 'rapg', 'rap', 'rag', 'ra', 'rpg', 'rp', 'rg', 'r', 'apg', 'ap', 'ag', 'a', 'pg', 'p', 'g', '']\n",
      "128\n",
      "Common subsequences\n",
      "['ur', 'up', 'u', 'r', 'p', '']\n",
      "Returning max subsequence length\n",
      "2\n"
     ]
    }
   ],
   "source": [
    "s = Solution()\n",
    "print(\"Test Case 1\")\n",
    "print(s.longestCommonSubsequence_bruteforce(\"abcde\",\"ace\"))\n",
    "print(\" \")\n",
    "print(\"Test Case 2\")\n",
    "print(s.longestCommonSubsequence_bruteforce(\"ezupkr\",\"ubmrapg\"))\n"
   ]
  },
  {
   "cell_type": "markdown",
   "id": "a57bc9b1-21dc-4715-9b8b-2d0ff9cdcdc7",
   "metadata": {},
   "source": [
    "# Solution 2\n",
    "\n",
    "Using Recursion , (this problem is similar to levenshtein problem)\n",
    "\n",
    "To-dO Add picture"
   ]
  },
  {
   "cell_type": "code",
   "execution_count": 19,
   "id": "fa20cdd3-51c3-4080-88f8-f97e9b158713",
   "metadata": {},
   "outputs": [],
   "source": [
    "class Solution(object):\n",
    "    def longestCommonSubsequence_recursion1(self, text1, text2):\n",
    "        \"\"\"\n",
    "        :type text1: str\n",
    "        :type text2: str\n",
    "        :rtype: int\n",
    "        \"\"\"\n",
    "        final_list = [ ]\n",
    "        def recursion(i,j,ps):\n",
    "            if i == len(text1) or j == len(text2):\n",
    "                final_list.append(ps)\n",
    "                return\n",
    "            if text1[i] == text2[j]:\n",
    "                recursion(i+1,j+1,ps+text1[i])\n",
    "            else:\n",
    "                recursion(i+1,j,ps)\n",
    "                recursion(i,j+1,ps)\n",
    "        \n",
    "        recursion(0,0,\"\")\n",
    "        max_sub = 0\n",
    "        for sub in final_list:\n",
    "            max_sub = max(len(sub),max_sub)\n",
    "        return max_sub       \n",
    "            \n",
    "        \n",
    "        \n",
    "                    "
   ]
  },
  {
   "cell_type": "code",
   "execution_count": 20,
   "id": "b06fd491-9fa0-4f73-81f5-95811f72ff89",
   "metadata": {},
   "outputs": [
    {
     "name": "stdout",
     "output_type": "stream",
     "text": [
      "Test Case 1\n",
      "3\n",
      " \n",
      "Test Case 2\n",
      "2\n"
     ]
    }
   ],
   "source": [
    "s = Solution()\n",
    "print(\"Test Case 1\")\n",
    "print(s.longestCommonSubsequence_recursion1(\"abcde\",\"ace\"))\n",
    "print(\" \")\n",
    "print(\"Test Case 2\")\n",
    "print(s.longestCommonSubsequence_recursion1(\"ezupkr\",\"ubmrapg\"))\n"
   ]
  },
  {
   "cell_type": "markdown",
   "id": "dbd63376-3548-4a3d-a0ae-73dfb6dd8555",
   "metadata": {},
   "source": [
    "### Calculating max inside recursion\n",
    "\n",
    "Why Am i using LRU Cache -> https://realpython.com/lru-cache-python/"
   ]
  },
  {
   "cell_type": "code",
   "execution_count": 26,
   "id": "17d29c3d-51b9-4a27-a60f-7e910f4b5e25",
   "metadata": {},
   "outputs": [],
   "source": [
    "from functools import lru_cache\n",
    "class Solution(object):\n",
    "    def longestCommonSubsequence_recursion2(self, text1, text2):\n",
    "        \"\"\"\n",
    "        :type text1: str\n",
    "        :type text2: str\n",
    "        :rtype: int\n",
    "        \"\"\"\n",
    "        def recursion(i,j):\n",
    "            if i == len(text1) or j == len(text2):\n",
    "                return 0\n",
    "            if text1[i] == text2[j]:\n",
    "                 return 1 + recursion(i+1,j+1)\n",
    "            else:\n",
    "                return max(recursion(i+1,j),recursion(i,j+1))\n",
    "        \n",
    "        return recursion(0,0)\n",
    "        \n",
    "    \n",
    "    def longestCommonSubsequence_recursion2_memoization(self, text1: str, text2: str) -> int:\n",
    "        \"\"\"\n",
    "        :type text1: str\n",
    "        :type text2: str\n",
    "        :rtype: int\n",
    "        \"\"\"\n",
    "        @lru_cache(maxsize=None)\n",
    "        def recursion(i,j):\n",
    "            if i == len(text1) or j == len(text2):\n",
    "                return 0\n",
    "            if text1[i] == text2[j]:\n",
    "                 return 1 + recursion(i+1,j+1)\n",
    "            else:\n",
    "                return max(recursion(i+1,j),recursion(i,j+1))\n",
    "        \n",
    "        return recursion(0,0)"
   ]
  },
  {
   "cell_type": "code",
   "execution_count": 28,
   "id": "8b1a1c88-bbef-413a-8eeb-cad80edb12dd",
   "metadata": {},
   "outputs": [
    {
     "name": "stdout",
     "output_type": "stream",
     "text": [
      "Test Case 1\n",
      "3\n",
      " \n",
      "Test Case 2\n",
      "2\n",
      "MEMOIZED Recusrion\n",
      "Test Case 1\n",
      "3\n",
      " \n",
      "Test Case 2\n",
      "2\n"
     ]
    }
   ],
   "source": [
    "s = Solution()\n",
    "print(\"Test Case 1\")\n",
    "print(s.longestCommonSubsequence_recursion2(\"abcde\",\"ace\"))\n",
    "print(\" \")\n",
    "print(\"Test Case 2\")\n",
    "print(s.longestCommonSubsequence_recursion2(\"ezupkr\",\"ubmrapg\"))\n",
    "\n",
    "print(\"MEMOIZED Recusrion\")\n",
    "\n",
    "print(\"Test Case 1\")\n",
    "print(s.longestCommonSubsequence_recursion2_memoization(\"abcde\",\"ace\"))\n",
    "print(\" \")\n",
    "print(\"Test Case 2\")\n",
    "print(s.longestCommonSubsequence_recursion2_memoization(\"ezupkr\",\"ubmrapg\"))\n",
    "\n"
   ]
  },
  {
   "cell_type": "markdown",
   "id": "ef7e511b-88a5-4c9f-b367-1cd3fdb4bf41",
   "metadata": {},
   "source": [
    "## Solution3 - DP Solution"
   ]
  },
  {
   "cell_type": "code",
   "execution_count": 29,
   "id": "32fb5fcb-fafe-4de2-9538-3f41bf92edea",
   "metadata": {},
   "outputs": [],
   "source": [
    "class Solution:\n",
    "    def longestCommonSubsequence(self, text1: str, text2: str) -> int:\n",
    "        \"\"\"\n",
    "        :type text1: str\n",
    "        :type text2: str\n",
    "        :rtype: int\n",
    "        \"\"\"\n",
    "        dp = [[0 for i in range(len(text2)+1)] for j in range(len(text1)+1)]\n",
    "        #print(dp)\n",
    "        for i in range(len(text1)-1,-1,-1):\n",
    "            for j in range(len(text2)-1,-1,-1):\n",
    "                if text1[i] == text2[j]:                  \n",
    "                    dp[i][j] = 1+dp[i+1][j+1]\n",
    "                else:\n",
    "                    dp[i][j] = max(dp[i][j+1],dp[i+1][j])\n",
    "        return dp[0][0]\n",
    "                \n",
    "                    "
   ]
  },
  {
   "cell_type": "code",
   "execution_count": 30,
   "id": "5bb07ffa-60b2-4663-a439-cae6407b4ca0",
   "metadata": {},
   "outputs": [
    {
     "name": "stdout",
     "output_type": "stream",
     "text": [
      "Test Case 1\n",
      "3\n"
     ]
    }
   ],
   "source": [
    "s = Solution()\n",
    "print(\"Test Case 1\")\n",
    "print(s.longestCommonSubsequence(\"abcde\",\"ace\"))\n"
   ]
  },
  {
   "cell_type": "code",
   "execution_count": null,
   "id": "1979ff12-e8bf-4ca0-8b26-9945882df68d",
   "metadata": {},
   "outputs": [],
   "source": []
  }
 ],
 "metadata": {
  "kernelspec": {
   "display_name": "Python 3 (ipykernel)",
   "language": "python",
   "name": "python3"
  },
  "language_info": {
   "codemirror_mode": {
    "name": "ipython",
    "version": 3
   },
   "file_extension": ".py",
   "mimetype": "text/x-python",
   "name": "python",
   "nbconvert_exporter": "python",
   "pygments_lexer": "ipython3",
   "version": "3.9.7"
  }
 },
 "nbformat": 4,
 "nbformat_minor": 5
}
