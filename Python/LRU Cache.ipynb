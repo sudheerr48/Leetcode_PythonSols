{
 "cells": [
  {
   "cell_type": "markdown",
   "id": "b37ac796-357e-42ec-bffd-6959fc26e3b8",
   "metadata": {},
   "source": [
    "# 146. LRU Cache\n",
    "\n",
    "Design a data structure that follows the constraints of a Least Recently Used (LRU) cache.\n",
    "\n",
    "Implement the LRUCache class:\n",
    "\n",
    "LRUCache(int capacity) Initialize the LRU cache with positive size capacity.\n",
    "int get(int key) Return the value of the key if the key exists, otherwise return -1.\n",
    "void put(int key, int value) Update the value of the key if the key exists. Otherwise, add the key-value pair to the cache. If the number of keys exceeds the capacity from this operation, evict the least recently used key.\n",
    "The functions get and put must each run in O(1) average time complexity.\n",
    "\n",
    " \n",
    "\n",
    "Example 1:\n",
    "\n",
    "Input\n",
    "\n",
    "[\"LRUCache\", \"put\", \"put\", \"get\", \"put\", \"get\", \"put\", \"get\", \"get\", \"get\"]\n",
    "\n",
    "[[2], [1, 1], [2, 2], [1], [3, 3], [2], [4, 4], [1], [3], [4]]\n",
    "\n",
    "Output\n",
    "\n",
    "[null, null, null, 1, null, -1, null, -1, 3, 4]\n",
    "\n",
    "Explanation\n",
    "\n",
    "LRUCache lRUCache = new LRUCache(2);\n",
    "\n",
    "lRUCache.put(1, 1); // cache is {1=1}\n",
    "\n",
    "lRUCache.put(2, 2); // cache is {1=1, 2=2}\n",
    "\n",
    "lRUCache.get(1);    // return 1\n",
    "\n",
    "lRUCache.put(3, 3); // LRU key was 2, evicts key 2, cache is {1=1, 3=3}\n",
    "\n",
    "lRUCache.get(2);    // returns -1 (not found)\n",
    "\n",
    "lRUCache.put(4, 4); // LRU key was 1, evicts key 1, cache is {4=4, 3=3}\n",
    "\n",
    "lRUCache.get(1);    // return -1 (not found)\n",
    "\n",
    "lRUCache.get(3);    // return 3\n",
    "\n",
    "lRUCache.get(4);    // return 4"
   ]
  },
  {
   "cell_type": "markdown",
   "id": "6603f620-f132-4945-abeb-92dc5bedcde0",
   "metadata": {},
   "source": [
    "# Solution\n",
    "\n",
    "3 required operations \n",
    "\n",
    "Get the key / Check if the key exists -> if we use hashmap , it can be solved in Big(1)\n",
    "\n",
    "Put the key -> if we use hashmap , it can be solved in Big(1)\n",
    "\n",
    "Delete the first added key -> If we use linkedlist it can effectivr in Big(1)\n",
    "\n",
    "Ordered dictionary combines behind both hashmap and linked list OrderedDict "
   ]
  },
  {
   "cell_type": "code",
   "execution_count": 1,
   "id": "5aabe27f-47e8-4965-8ac3-2dc8d06deed5",
   "metadata": {},
   "outputs": [],
   "source": [
    "from collections import OrderedDict\n",
    "\n",
    "class LRUCache:\n",
    "    def __init__(self, capacity: int):\n",
    "        self.cap = capacity\n",
    "        self.dict = OrderedDict()\n",
    "\n",
    "    def get(self, key: int) -> int:\n",
    "        if key not in self.dict:\n",
    "            return -1\n",
    "        self.dict.move_to_end(key)\n",
    "        return self.dict[key]\n",
    "\n",
    "    def put(self, key: int, value: int) -> None:\n",
    "        if key in self.dict:\n",
    "            self.dict.pop(key)\n",
    "            \n",
    "        self.dict[key] = value\n",
    "        if len(self.dict) > self.cap:\n",
    "            self.dict.popitem(last=False) "
   ]
  },
  {
   "cell_type": "code",
   "execution_count": null,
   "id": "6024d249-2ad3-4df2-b12b-37eb05102b74",
   "metadata": {},
   "outputs": [],
   "source": [
    "[\"LRUCache\",\"put\",\"put\",\"get\",\"put\",\"get\",\"put\",\"get\",\"get\",\"get\"]\n",
    "[[2],[1,1],[2,2],[1],[3,3],[2],[4,4],[1],[3],[4]]"
   ]
  }
 ],
 "metadata": {
  "kernelspec": {
   "display_name": "Python 3 (ipykernel)",
   "language": "python",
   "name": "python3"
  },
  "language_info": {
   "codemirror_mode": {
    "name": "ipython",
    "version": 3
   },
   "file_extension": ".py",
   "mimetype": "text/x-python",
   "name": "python",
   "nbconvert_exporter": "python",
   "pygments_lexer": "ipython3",
   "version": "3.9.7"
  }
 },
 "nbformat": 4,
 "nbformat_minor": 5
}
