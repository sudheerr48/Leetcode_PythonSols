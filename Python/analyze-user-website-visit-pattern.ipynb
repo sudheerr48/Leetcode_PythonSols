{
 "cells": [
  {
   "cell_type": "markdown",
   "id": "2fa29646-ee21-46b9-b4f9-6365703b9bcf",
   "metadata": {},
   "source": [
    "# 1152. Analyze User Website Visit Pattern\n",
    "\n",
    "You are given two string arrays username and website and an integer array timestamp. All the given arrays are of the same length and the tuple [username[i], website[i], timestamp[i]] indicates that the user username[i] visited the website website[i] at time timestamp[i].\n",
    "\n",
    "A pattern is a list of three websites (not necessarily distinct).\n",
    "\n",
    "For example, [\"home\", \"away\", \"love\"], [\"leetcode\", \"love\", \"leetcode\"], and [\"luffy\", \"luffy\", \"luffy\"] are all patterns.\n",
    "The score of a pattern is the number of users that visited all the websites in the pattern in the same order they appeared in the pattern.\n",
    "\n",
    "For example, if the pattern is [\"home\", \"away\", \"love\"], the score is the number of users x such that x visited \"home\" then visited \"away\" and visited \"love\" after that.\n",
    "Similarly, if the pattern is [\"leetcode\", \"love\", \"leetcode\"], the score is the number of users x such that x visited \"leetcode\" then visited \"love\" and visited \"leetcode\" one more time after that.\n",
    "Also, if the pattern is [\"luffy\", \"luffy\", \"luffy\"], the score is the number of users x such that x visited \"luffy\" three different times at different timestamps.\n",
    "Return the pattern with the largest score. If there is more than one pattern with the same largest score, return the lexicographically smallest such pattern."
   ]
  },
  {
   "cell_type": "code",
   "execution_count": 17,
   "id": "0ab632cb",
   "metadata": {},
   "outputs": [],
   "source": [
    "# Ref:- https://leetcode.com/problems/analyze-user-website-visit-pattern/discuss/1036788/Python-3-Straightforward-approach-Faster-than-98.38-users\n",
    "\n",
    "username = [\"joe\",\"joe\",\"joe\",\"james\",\"james\",\"james\",\"james\",\"mary\",\"mary\",\"mary\"]\n",
    "timestamp = [1,2,3,4,5,6,7,8,9,10]\n",
    "website = [\"home\",\"about\",\"career\",\"home\",\"cart\",\"maps\",\"home\",\"home\",\"about\",\"career\"]"
   ]
  },
  {
   "cell_type": "code",
   "execution_count": 3,
   "id": "6dbb0ede",
   "metadata": {},
   "outputs": [],
   "source": [
    "webInfo = []\n",
    "for time, usr, web in zip(timestamp, username, website):\n",
    "    webInfo.append((time, usr, web))"
   ]
  },
  {
   "cell_type": "code",
   "execution_count": 4,
   "id": "30eaff41",
   "metadata": {},
   "outputs": [
    {
     "data": {
      "text/plain": [
       "[(1, 'joe', 'home'),\n",
       " (2, 'joe', 'about'),\n",
       " (3, 'joe', 'career'),\n",
       " (4, 'james', 'home'),\n",
       " (5, 'james', 'cart'),\n",
       " (6, 'james', 'maps'),\n",
       " (7, 'james', 'home'),\n",
       " (8, 'mary', 'home'),\n",
       " (9, 'mary', 'about'),\n",
       " (10, 'mary', 'career')]"
      ]
     },
     "execution_count": 4,
     "metadata": {},
     "output_type": "execute_result"
    }
   ],
   "source": [
    "webInfo"
   ]
  },
  {
   "cell_type": "code",
   "execution_count": 5,
   "id": "66eee76c",
   "metadata": {},
   "outputs": [],
   "source": [
    "webInfo.sort(key=lambda x:x[0])"
   ]
  },
  {
   "cell_type": "code",
   "execution_count": 6,
   "id": "427f73bd",
   "metadata": {},
   "outputs": [
    {
     "data": {
      "text/plain": [
       "[(1, 'joe', 'home'),\n",
       " (2, 'joe', 'about'),\n",
       " (3, 'joe', 'career'),\n",
       " (4, 'james', 'home'),\n",
       " (5, 'james', 'cart'),\n",
       " (6, 'james', 'maps'),\n",
       " (7, 'james', 'home'),\n",
       " (8, 'mary', 'home'),\n",
       " (9, 'mary', 'about'),\n",
       " (10, 'mary', 'career')]"
      ]
     },
     "execution_count": 6,
     "metadata": {},
     "output_type": "execute_result"
    }
   ],
   "source": [
    "webInfo"
   ]
  },
  {
   "cell_type": "code",
   "execution_count": 7,
   "id": "f96409e2",
   "metadata": {},
   "outputs": [],
   "source": [
    "from collections import defaultdict\n",
    "from itertools import combinations\n",
    "websiteVisit = defaultdict(list)\n",
    "for _, usr, web in webInfo:\n",
    "    websiteVisit[usr].append(web)"
   ]
  },
  {
   "cell_type": "code",
   "execution_count": 8,
   "id": "71c4ae9a",
   "metadata": {},
   "outputs": [
    {
     "data": {
      "text/plain": [
       "defaultdict(list,\n",
       "            {'joe': ['home', 'about', 'career'],\n",
       "             'james': ['home', 'cart', 'maps', 'home'],\n",
       "             'mary': ['home', 'about', 'career']})"
      ]
     },
     "execution_count": 8,
     "metadata": {},
     "output_type": "execute_result"
    }
   ],
   "source": [
    "websiteVisit"
   ]
  },
  {
   "cell_type": "code",
   "execution_count": 9,
   "id": "45f23260",
   "metadata": {},
   "outputs": [
    {
     "name": "stdout",
     "output_type": "stream",
     "text": [
      "{('home', 'about', 'career')}\n",
      "{('home', 'cart', 'maps'), ('cart', 'maps', 'home'), ('home', 'cart', 'home'), ('home', 'maps', 'home')}\n",
      "{('home', 'about', 'career')}\n"
     ]
    }
   ],
   "source": [
    "# print(websiteVisit)\n",
    "# FIND THE ROUTES IN THE FORM OF TUPLES OF LENGTH 3\n",
    "possibleTuples = defaultdict(int)\n",
    "for usr in websiteVisit:\n",
    "    webRoutes = set(combinations(websiteVisit[usr], 3))\n",
    "    print(webRoutes)\n",
    "    for webRoute in webRoutes:\n",
    "        possibleTuples[webRoute] += 1"
   ]
  },
  {
   "cell_type": "code",
   "execution_count": 10,
   "id": "bddedc80",
   "metadata": {},
   "outputs": [
    {
     "data": {
      "text/plain": [
       "defaultdict(int,\n",
       "            {('home', 'about', 'career'): 2,\n",
       "             ('home', 'cart', 'maps'): 1,\n",
       "             ('cart', 'maps', 'home'): 1,\n",
       "             ('home', 'cart', 'home'): 1,\n",
       "             ('home', 'maps', 'home'): 1})"
      ]
     },
     "execution_count": 10,
     "metadata": {},
     "output_type": "execute_result"
    }
   ],
   "source": [
    "possibleTuples"
   ]
  },
  {
   "cell_type": "code",
   "execution_count": 11,
   "id": "7ef62fb3",
   "metadata": {},
   "outputs": [],
   "source": [
    "# print(possibleTuples)\n",
    "# FIND MAX VALUE OF USERS VISITED\n",
    "maxVal, routes = max(possibleTuples.values()), []\n",
    "for r, val in possibleTuples.items():\n",
    "    if val == maxVal:\n",
    "        routes.append(r)"
   ]
  },
  {
   "cell_type": "code",
   "execution_count": 12,
   "id": "8067873e",
   "metadata": {},
   "outputs": [
    {
     "data": {
      "text/plain": [
       "defaultdict(int,\n",
       "            {('home', 'about', 'career'): 2,\n",
       "             ('home', 'cart', 'maps'): 1,\n",
       "             ('cart', 'maps', 'home'): 1,\n",
       "             ('home', 'cart', 'home'): 1,\n",
       "             ('home', 'maps', 'home'): 1})"
      ]
     },
     "execution_count": 12,
     "metadata": {},
     "output_type": "execute_result"
    }
   ],
   "source": [
    "possibleTuples"
   ]
  },
  {
   "cell_type": "code",
   "execution_count": 13,
   "id": "8ed8ac8f",
   "metadata": {},
   "outputs": [
    {
     "data": {
      "text/plain": [
       "2"
      ]
     },
     "execution_count": 13,
     "metadata": {},
     "output_type": "execute_result"
    }
   ],
   "source": [
    "maxVal"
   ]
  },
  {
   "cell_type": "code",
   "execution_count": 14,
   "id": "321ab394",
   "metadata": {},
   "outputs": [
    {
     "data": {
      "text/plain": [
       "[('home', 'about', 'career')]"
      ]
     },
     "execution_count": 14,
     "metadata": {},
     "output_type": "execute_result"
    }
   ],
   "source": [
    "routes"
   ]
  },
  {
   "cell_type": "code",
   "execution_count": 15,
   "id": "3aeef381",
   "metadata": {},
   "outputs": [],
   "source": [
    "if len(routes) > 1:\n",
    "    # SORTS LEXICOGRAPHICALLY\n",
    "    routes.sort()"
   ]
  },
  {
   "cell_type": "code",
   "execution_count": 16,
   "id": "06958121",
   "metadata": {},
   "outputs": [
    {
     "data": {
      "text/plain": [
       "[('home', 'about', 'career')]"
      ]
     },
     "execution_count": 16,
     "metadata": {},
     "output_type": "execute_result"
    }
   ],
   "source": [
    "routes"
   ]
  },
  {
   "cell_type": "code",
   "execution_count": null,
   "id": "5b2b0404",
   "metadata": {},
   "outputs": [],
   "source": []
  }
 ],
 "metadata": {
  "kernelspec": {
   "display_name": "Python 3 (ipykernel)",
   "language": "python",
   "name": "python3"
  },
  "language_info": {
   "codemirror_mode": {
    "name": "ipython",
    "version": 3
   },
   "file_extension": ".py",
   "mimetype": "text/x-python",
   "name": "python",
   "nbconvert_exporter": "python",
   "pygments_lexer": "ipython3",
   "version": "3.9.7"
  }
 },
 "nbformat": 4,
 "nbformat_minor": 5
}
