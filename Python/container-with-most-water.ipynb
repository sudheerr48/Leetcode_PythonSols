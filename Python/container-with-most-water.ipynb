{
 "cells": [
  {
   "cell_type": "markdown",
   "id": "d221aa50-61da-457b-a6cb-ff6f0a6b5458",
   "metadata": {},
   "source": [
    "# 11.Container With Most Water\n",
    "You are given an integer array height of length n. There are n vertical lines drawn such that the two endpoints of the ith line are (i, 0) and (i, height[i]).\n",
    "\n",
    "Find two lines that together with the x-axis form a container, such that the container contains the most water.\n",
    "\n",
    "Return the maximum amount of water a container can store.\n",
    "\n",
    "Notice that you may not slant the container.\n",
    "\n",
    "Input: height = [1,8,6,2,5,4,8,3,7]\n",
    "Output: 49\n",
    "Explanation: The above vertical lines are represented by array [1,8,6,2,5,4,8,3,7]. In this case, the max area of water  the container can contain is 49."
   ]
  },
  {
   "cell_type": "code",
   "execution_count": 2,
   "id": "10d41298-0d9c-4f43-b667-7ff90d910353",
   "metadata": {},
   "outputs": [],
   "source": [
    "class Solution:\n",
    "    def maxArea(self, height) -> int:\n",
    "        '''\n",
    "        Brute force :- 2 pointers each are used to calculate area and\n",
    "        values in pointers are treated as boundaries\n",
    "        max area need to be replaced\n",
    "        area = lower_boundary *  (distance between boundaries)\n",
    "        Time Complexity = O(n2)\n",
    "        Space complexity  = O(1)\n",
    "        '''\n",
    "        print(height)\n",
    "        len_height = len(height)\n",
    "        max_area = 0\n",
    "        for i in range(len_height):\n",
    "            for j in range(len_height-1,i,-1):\n",
    "                lower_bound = min(height[i], height[j])\n",
    "                dist = j-i\n",
    "                area = dist*lower_bound\n",
    "                max_area = max(max_area,area)\n",
    "        return max_area\n",
    "        \n",
    "    def maxArea_opt(self, height) -> int:    \n",
    "        '''\n",
    "        Optimized way , \n",
    "        1. Rather than picking every boundary , since we want to maximixe \n",
    "        area , lets pick both ends of heights as boundaries as last time\n",
    "        but this time lets move only in the direction where we dont want lower boundary\n",
    "        1 7 -> area = (8-0)*(1) = 8\n",
    "        since 1 is smaller lets move i forward\n",
    "        8 7 -> area = (8-1)*(7) = 49\n",
    "        and so on\n",
    "        \n",
    "        Time Complexity = O(n)\n",
    "        Space complexity  = O(1)\n",
    "        \n",
    "        '''\n",
    "        i = 0\n",
    "        j = len(height)-1\n",
    "        max_area = 0\n",
    "        while(i<j):\n",
    "            lower_bound = min(height[i], height[j])\n",
    "            dist = j-i\n",
    "            area = dist*lower_bound\n",
    "            max_area = max(max_area,area)\n",
    "            if height[i] == lower_bound:\n",
    "                i+=1\n",
    "            else:\n",
    "                j-=1\n",
    "        return max_area\n",
    "            \n",
    "        "
   ]
  },
  {
   "cell_type": "code",
   "execution_count": 3,
   "id": "68666058-d837-4ed5-a260-0145711168c4",
   "metadata": {},
   "outputs": [
    {
     "name": "stdout",
     "output_type": "stream",
     "text": [
      "[1, 8, 6, 2, 5, 4, 8, 3, 7]\n",
      "49\n",
      "49\n"
     ]
    }
   ],
   "source": [
    "s = Solution()\n",
    "height = [1,8,6,2,5,4,8,3,7]\n",
    "print(s.maxArea(height))\n",
    "print(s.maxArea_opt(height))"
   ]
  },
  {
   "cell_type": "code",
   "execution_count": null,
   "id": "40f91890-a404-4093-bf6e-f7ade8e5523e",
   "metadata": {},
   "outputs": [],
   "source": []
  }
 ],
 "metadata": {
  "kernelspec": {
   "display_name": "Python 3 (ipykernel)",
   "language": "python",
   "name": "python3"
  },
  "language_info": {
   "codemirror_mode": {
    "name": "ipython",
    "version": 3
   },
   "file_extension": ".py",
   "mimetype": "text/x-python",
   "name": "python",
   "nbconvert_exporter": "python",
   "pygments_lexer": "ipython3",
   "version": "3.9.7"
  }
 },
 "nbformat": 4,
 "nbformat_minor": 5
}
